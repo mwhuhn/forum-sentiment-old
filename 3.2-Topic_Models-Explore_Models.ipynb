{
 "cells": [
  {
   "cell_type": "markdown",
   "metadata": {},
   "source": [
    "# Explore Topic Models\n",
    "Explores the topic models of forum posts with LDA (Latent Dirichlet Allocation)\n",
    "\n",
    "## TODO\n",
    "- Tutorial\n",
    " - https://towardsdatascience.com/topic-modelling-in-python-with-nltk-and-gensim-4ef03213cd21\n",
    " - https://www.machinelearningplus.com/nlp/topic-modeling-gensim-python\n"
   ]
  },
  {
   "cell_type": "markdown",
   "metadata": {},
   "source": [
    "## Imports"
   ]
  },
  {
   "cell_type": "code",
   "execution_count": 151,
   "metadata": {},
   "outputs": [],
   "source": [
    "from gensim import corpora, models\n",
    "import pickle\n",
    "from pathlib import Path\n",
    "from io import FileIO\n",
    "import pyLDAvis.gensim\n",
    "from gensim.models import LdaModel, LdaMulticore\n",
    "from lemmatize import *\n",
    "from scraping import create_connection\n"
   ]
  },
  {
   "cell_type": "code",
   "execution_count": 152,
   "metadata": {},
   "outputs": [],
   "source": [
    "import warnings\n",
    "warnings.filterwarnings(\"ignore\", category=DeprecationWarning)"
   ]
  },
  {
   "cell_type": "markdown",
   "metadata": {},
   "source": [
    "## Functions"
   ]
  },
  {
   "cell_type": "code",
   "execution_count": 153,
   "metadata": {},
   "outputs": [],
   "source": [
    "def load_data(forum=\"all\", group=\"all\", id_type=\"family_id\"):\n",
    "    lemmatized_text = pickle.load(open(path_lemma_pkl.format(forum, group, id_type), 'rb'))\n",
    "    corpus = pickle.load(open(path_corpus_pkl.format(forum, group, id_type), 'rb'))\n",
    "    dictionary = corpora.Dictionary.load(path_dictionary_gensim.format(forum, group, id_type))\n",
    "    return lemmatized_text, corpus, dictionary"
   ]
  },
  {
   "cell_type": "code",
   "execution_count": 154,
   "metadata": {},
   "outputs": [],
   "source": [
    "def gen_cols(n):\n",
    "    return [\"topic_{}\".format(str(i).zfill(2)) for i in range(n)]"
   ]
  },
  {
   "cell_type": "markdown",
   "metadata": {},
   "source": [
    "## File Locations"
   ]
  },
  {
   "cell_type": "code",
   "execution_count": 155,
   "metadata": {},
   "outputs": [],
   "source": [
    "p = Path.cwd()\n",
    "path_parent = p.parents[0]"
   ]
  },
  {
   "cell_type": "code",
   "execution_count": 156,
   "metadata": {},
   "outputs": [],
   "source": [
    "# database\n",
    "path_db = str(path_parent / \"database\" / \"youbemom-merged.db\")\n",
    "# data to load\n",
    "path_lemma_pkl = str(path_parent / \"clean_data\" / \"lemmatized_text_{0}_{1}_{2}.pkl\")\n",
    "path_corpus_pkl = str(path_parent / \"clean_data\" / \"corpus_{0}_{1}_{2}.pkl\")\n",
    "path_dictionary_gensim = str(path_parent / \"clean_data\" / \"dictionary_{0}_{1}_{2}.gensim\")\n",
    "# model saving\n",
    "path_tune_models = str(path_parent / \"clean_data\" / \"lda_tune_{0}_{1}_{2}_{3}_{4}.gensim\")\n",
    "path_ntopic_models = str(path_parent / \"clean_data\" / \"lda_ntopics_{0}_{1}_{2}_{3}.gensim\")\n",
    "# path_coherence = str(path_parent / \"clean_data\" / \"coherence_{}.csv\")\n",
    "path_log = str(path_parent / \"clean_data\" / \"logging_{0}_{1}_{2}_{3}.log\")\n",
    "path_log_iterations = str(path_parent / \"clean_data\" / \"logging_{0}_{1}_{2}_{3}.log\")\n",
    "# dominant topic\n",
    "path_dom_topic = str(path_parent / \"clean_data\" / \"dominant_topic_{0}_{1}_{2}_{3}.csv\")\n",
    "# clean text\n",
    "path_clean_text = str(path_parent / \"clean_data\" / \"clean_text_{0}_{1}.csv\")"
   ]
  },
  {
   "cell_type": "markdown",
   "metadata": {},
   "source": [
    "## Load Data"
   ]
  },
  {
   "cell_type": "code",
   "execution_count": 157,
   "metadata": {},
   "outputs": [],
   "source": [
    "args = {\n",
    "    'special-needs':{'n_passes':100, 'n_iterations':200, 'n_topics':[5, 10, 15, 20, 25, 30, 40, 50]},\n",
    "    'tween-teen':   {'n_passes':120, 'n_iterations':400, 'n_topics':[2, 3, 4, 5, 7, 10, 15, 20, 25, 30, 40, 50]},\n",
    "    'preschool':    {'n_passes':100, 'n_iterations':400, 'n_topics':[2, 3, 4, 5, 7, 10, 15, 20, 25, 30]},\n",
    "    'elementary':   {'n_passes':130, 'n_iterations':400, 'n_topics':[2, 3, 4, 5, 7, 10, 15, 20, 25, 30]},\n",
    "    'new-york-city':{'n_passes':150, 'n_iterations':400, 'n_topics':[2, 3, 4, 5, 7, 10, 15, 20, 25, 30, 40, 50]},\n",
    "    'school':       {'n_passes':200, 'n_iterations':400, 'n_topics':[2, 3, 4, 5, 7, 10, 15, 20, 25, 30, 40, 50]},\n",
    "    'toddler':      {'n_passes':35,  'n_iterations':200, 'n_topics':[5, 10, 15, 20, 25, 30, 40, 50]}\n",
    "}"
   ]
  },
  {
   "cell_type": "code",
   "execution_count": 158,
   "metadata": {
    "scrolled": true
   },
   "outputs": [],
   "source": [
    "sf = \"special-needs\"\n",
    "n = 20"
   ]
  },
  {
   "cell_type": "code",
   "execution_count": 159,
   "metadata": {},
   "outputs": [],
   "source": [
    "group = 'all'\n",
    "id_type = 'family_id'"
   ]
  },
  {
   "cell_type": "code",
   "execution_count": 160,
   "metadata": {},
   "outputs": [],
   "source": [
    "lemmatized_text, corpus, dictionary = load_data(sf, group, id_type)"
   ]
  },
  {
   "cell_type": "code",
   "execution_count": 161,
   "metadata": {},
   "outputs": [],
   "source": [
    "mod_dict = {}\n",
    "for i in args[sf][\"n_topics\"]:\n",
    "    mod_dict[str(i)] = LdaModel.load(path_ntopic_models.format(sf, group, id_type, str(i)))"
   ]
  },
  {
   "cell_type": "code",
   "execution_count": 162,
   "metadata": {},
   "outputs": [],
   "source": [
    "date_sql = '''\n",
    "    SELECT family_id, message_id, date_created\n",
    "    FROM posts\n",
    "    WHERE subforum=?\n",
    "        AND parent_id=\"\"\n",
    "'''"
   ]
  },
  {
   "cell_type": "code",
   "execution_count": 163,
   "metadata": {},
   "outputs": [],
   "source": [
    "# sen_sql = '''\n",
    "#     SELECT s.message_id, s.com_sen_clean\n",
    "#     FROM sentiment AS s\n",
    "#     LEFT JOIN posts AS p\n",
    "#         ON s.message_id = p.message_id\n",
    "#     WHERE p.subforum=?\n",
    "# '''"
   ]
  },
  {
   "cell_type": "code",
   "execution_count": 198,
   "metadata": {},
   "outputs": [],
   "source": [
    "conn = create_connection(path_db)\n",
    "dates = pd.read_sql(date_sql, conn, params=(sf,))\n",
    "# sen = pd.read_sql(sen_sql, conn, params=(sf,))"
   ]
  },
  {
   "cell_type": "code",
   "execution_count": 199,
   "metadata": {},
   "outputs": [],
   "source": [
    "dates = dates.drop('message_id', axis=1)\n",
    "# sen['message_id'] = pd.to_numeric(sen['message_id'])"
   ]
  },
  {
   "cell_type": "code",
   "execution_count": 200,
   "metadata": {},
   "outputs": [],
   "source": [
    "clean_text = pd.read_csv(path_clean_text.format(sf, group))\n",
    "# clean_text = clean_text.merge(sen, how=\"left\", on=\"message_id\")"
   ]
  },
  {
   "cell_type": "code",
   "execution_count": 201,
   "metadata": {},
   "outputs": [],
   "source": [
    "text = clean_text[['family_id','text_clean']].groupby(['family_id'])['text_clean'].apply(' '.join)\n",
    "text = text.to_frame()\n",
    "text.reset_index(inplace=True)"
   ]
  },
  {
   "cell_type": "code",
   "execution_count": 202,
   "metadata": {},
   "outputs": [],
   "source": [
    "dates_merged = text.merge(dates, how=\"left\", on=\"family_id\")"
   ]
  },
  {
   "cell_type": "code",
   "execution_count": 203,
   "metadata": {},
   "outputs": [
    {
     "data": {
      "text/plain": [
       "(25461, 3)"
      ]
     },
     "execution_count": 203,
     "metadata": {},
     "output_type": "execute_result"
    }
   ],
   "source": [
    "dates_merged.shape"
   ]
  },
  {
   "cell_type": "code",
   "execution_count": 204,
   "metadata": {},
   "outputs": [],
   "source": [
    "dates_merged['date_created'] = pd.to_datetime(dates_merged['date_created'])"
   ]
  },
  {
   "cell_type": "code",
   "execution_count": 206,
   "metadata": {},
   "outputs": [],
   "source": [
    "out = np.zeros((len(corpus), n), dtype=float, order='C')\n",
    "for i, doc in enumerate(corpus):\n",
    "    topics = mod_dict[str(n)].get_document_topics(doc)\n",
    "    for j, score in topics:\n",
    "        out[i,j] = score"
   ]
  },
  {
   "cell_type": "code",
   "execution_count": 208,
   "metadata": {},
   "outputs": [],
   "source": [
    "dates_merged.reset_index(drop=True, inplace=True)"
   ]
  },
  {
   "cell_type": "code",
   "execution_count": 209,
   "metadata": {
    "scrolled": true
   },
   "outputs": [],
   "source": [
    "cols = gen_cols(n)\n",
    "df = pd.concat([dates_merged, pd.DataFrame(out, columns=cols)], axis=1)"
   ]
  },
  {
   "cell_type": "code",
   "execution_count": 210,
   "metadata": {},
   "outputs": [],
   "source": [
    "df = df[(df['date_created'] < pd.to_datetime('2021-01-01'))]"
   ]
  },
  {
   "cell_type": "code",
   "execution_count": 212,
   "metadata": {},
   "outputs": [],
   "source": [
    "df = df.set_index(['date_created'])"
   ]
  },
  {
   "cell_type": "code",
   "execution_count": 213,
   "metadata": {},
   "outputs": [],
   "source": [
    "weeks = df[cols].groupby(pd.Grouper(freq='W')).sum()\n",
    "weeks['total'] = weeks[cols].sum(axis=1)\n",
    "weeks[cols] = weeks[cols].div(weeks[\"total\"], axis=0)"
   ]
  },
  {
   "cell_type": "code",
   "execution_count": 214,
   "metadata": {
    "scrolled": true
   },
   "outputs": [],
   "source": [
    "months = df[cols].groupby(pd.Grouper(freq='M')).sum()\n",
    "months['total'] = months[cols].sum(axis=1)\n",
    "months[cols] = months[cols].div(months[\"total\"], axis=0)\n",
    "cummonth = months[cols].cumsum(axis=1)"
   ]
  },
  {
   "cell_type": "code",
   "execution_count": 215,
   "metadata": {},
   "outputs": [],
   "source": [
    "path_data = str(path_parent / \"clean_data\" / \"clean_data_{}_{}_{}_{}_{}.csv\")\n",
    "months.to_csv(path_data.format(sf, group, id_type, str(n), \"month\"), index=True)"
   ]
  },
  {
   "cell_type": "code",
   "execution_count": 216,
   "metadata": {},
   "outputs": [],
   "source": [
    "weeks.to_csv(path_data.format(sf, group, id_type, str(n), \"week\"), index=True)"
   ]
  },
  {
   "cell_type": "code",
   "execution_count": 224,
   "metadata": {},
   "outputs": [
    {
     "data": {
      "text/plain": [
       "[<matplotlib.lines.Line2D at 0x7fec6cce7c40>]"
      ]
     },
     "execution_count": 224,
     "metadata": {},
     "output_type": "execute_result"
    },
    {
     "data": {
      "image/png": "[encoded data removed]",
      "text/plain": [
       "<Figure size 432x288 with 1 Axes>"
      ]
     },
     "metadata": {
      "needs_background": "light"
     },
     "output_type": "display_data"
    }
   ],
   "source": [
    "import matplotlib.pyplot as plt\n",
    "plt.plot(weeks.index, weeks['topic_09'])"
   ]
  },
  {
   "cell_type": "code",
   "execution_count": null,
   "metadata": {},
   "outputs": [],
   "source": [
    "clean_text.to_csv(path_data.format(sf, group, id_type, str(n), \"sen\"), index=False)"
   ]
  },
  {
   "cell_type": "code",
   "execution_count": 26,
   "metadata": {},
   "outputs": [],
   "source": [
    "def hex(h):\n",
    "    return \"#\" + h"
   ]
  },
  {
   "cell_type": "code",
   "execution_count": 27,
   "metadata": {},
   "outputs": [
    {
     "data": {
      "image/png": "[encoded data removed]",
      "text/plain": [
       "<Figure size 864x720 with 1 Axes>"
      ]
     },
     "metadata": {
      "needs_background": "light"
     },
     "output_type": "display_data"
    }
   ],
   "source": [
    "from matplotlib import pyplot as plt\n",
    "from matplotlib.pyplot import figure\n",
    "fig, ax = plt.subplots()\n",
    "width = 0.35\n",
    "colors = [\"95F9C3\",\"8EEFBE\",\"86E5B9\",\"7FDBB4\",\"78D0AF\",\"71C6AB\",\"69BCA6\",\"62B2A1\",\"5BA89C\",\"549E97\",\"4C9392\",\"45898D\",\"3E7F88\",\"377583\",\"2F6B7E\",\"28617A\",\"215675\",\"1A4C70\",\"12426B\",\"0B3866\"]\n",
    "ax.bar(months.index, months[cols[0]], width=100, label='Topic {}'.format(0), color=hex(colors[0]))\n",
    "for i in range(1, n):\n",
    "    ax.bar(months.index, months[cols[i]], bottom=cummonth[cols[i-1]], width=100, label='Topic {}'.format(i), color=hex(colors[i]))\n",
    "ax.legend(loc='center left', bbox_to_anchor=(1, 0.5))\n",
    "fig.set_size_inches(12, 10)\n",
    "fig.savefig(path_parent / \"plots\" / \"topic_distribution_{}_{}.png\".format(sf, str(n)))"
   ]
  },
  {
   "cell_type": "code",
   "execution_count": 29,
   "metadata": {},
   "outputs": [],
   "source": [
    "c = df[cols].corr()"
   ]
  },
  {
   "cell_type": "code",
   "execution_count": 31,
   "metadata": {},
   "outputs": [
    {
     "data": {
      "text/html": [
       "<div>\n",
       "<style scoped>\n",
       "    .dataframe tbody tr th:only-of-type {\n",
       "        vertical-align: middle;\n",
       "    }\n",
       "\n",
       "    .dataframe tbody tr th {\n",
       "        vertical-align: top;\n",
       "    }\n",
       "\n",
       "    .dataframe thead th {\n",
       "        text-align: right;\n",
       "    }\n",
       "</style>\n",
       "<table border=\"1\" class=\"dataframe\">\n",
       "  <thead>\n",
       "    <tr style=\"text-align: right;\">\n",
       "      <th></th>\n",
       "      <th>topic_00</th>\n",
       "      <th>topic_01</th>\n",
       "      <th>topic_02</th>\n",
       "      <th>topic_03</th>\n",
       "      <th>topic_04</th>\n",
       "      <th>topic_05</th>\n",
       "      <th>topic_06</th>\n",
       "      <th>topic_07</th>\n",
       "      <th>topic_08</th>\n",
       "      <th>topic_09</th>\n",
       "      <th>topic_10</th>\n",
       "      <th>topic_11</th>\n",
       "      <th>topic_12</th>\n",
       "      <th>topic_13</th>\n",
       "      <th>topic_14</th>\n",
       "      <th>topic_15</th>\n",
       "      <th>topic_16</th>\n",
       "      <th>topic_17</th>\n",
       "      <th>topic_18</th>\n",
       "      <th>topic_19</th>\n",
       "    </tr>\n",
       "  </thead>\n",
       "  <tbody>\n",
       "    <tr>\n",
       "      <th>topic_00</th>\n",
       "      <td>1.000000</td>\n",
       "      <td>0.015159</td>\n",
       "      <td>-0.150680</td>\n",
       "      <td>-0.061452</td>\n",
       "      <td>-0.067037</td>\n",
       "      <td>0.029273</td>\n",
       "      <td>0.082457</td>\n",
       "      <td>-0.061036</td>\n",
       "      <td>0.013256</td>\n",
       "      <td>0.168998</td>\n",
       "      <td>-0.150850</td>\n",
       "      <td>0.244460</td>\n",
       "      <td>0.034674</td>\n",
       "      <td>-0.037426</td>\n",
       "      <td>-0.061846</td>\n",
       "      <td>-0.056844</td>\n",
       "      <td>-0.054092</td>\n",
       "      <td>-0.024198</td>\n",
       "      <td>-0.075254</td>\n",
       "      <td>-0.044866</td>\n",
       "    </tr>\n",
       "    <tr>\n",
       "      <th>topic_01</th>\n",
       "      <td>0.015159</td>\n",
       "      <td>1.000000</td>\n",
       "      <td>-0.015622</td>\n",
       "      <td>-0.015912</td>\n",
       "      <td>0.038076</td>\n",
       "      <td>0.001003</td>\n",
       "      <td>0.014101</td>\n",
       "      <td>0.000189</td>\n",
       "      <td>0.000068</td>\n",
       "      <td>-0.043640</td>\n",
       "      <td>-0.033486</td>\n",
       "      <td>-0.016615</td>\n",
       "      <td>0.010395</td>\n",
       "      <td>0.005832</td>\n",
       "      <td>0.035632</td>\n",
       "      <td>0.030137</td>\n",
       "      <td>-0.003575</td>\n",
       "      <td>-0.014249</td>\n",
       "      <td>0.019317</td>\n",
       "      <td>-0.009596</td>\n",
       "    </tr>\n",
       "    <tr>\n",
       "      <th>topic_02</th>\n",
       "      <td>-0.150680</td>\n",
       "      <td>-0.015622</td>\n",
       "      <td>1.000000</td>\n",
       "      <td>-0.047001</td>\n",
       "      <td>0.053890</td>\n",
       "      <td>-0.020364</td>\n",
       "      <td>-0.214404</td>\n",
       "      <td>-0.104158</td>\n",
       "      <td>-0.024904</td>\n",
       "      <td>-0.330765</td>\n",
       "      <td>0.005522</td>\n",
       "      <td>-0.175213</td>\n",
       "      <td>-0.037921</td>\n",
       "      <td>0.115719</td>\n",
       "      <td>0.052833</td>\n",
       "      <td>-0.059569</td>\n",
       "      <td>0.119258</td>\n",
       "      <td>-0.101543</td>\n",
       "      <td>-0.323050</td>\n",
       "      <td>0.086688</td>\n",
       "    </tr>\n",
       "    <tr>\n",
       "      <th>topic_03</th>\n",
       "      <td>-0.061452</td>\n",
       "      <td>-0.015912</td>\n",
       "      <td>-0.047001</td>\n",
       "      <td>1.000000</td>\n",
       "      <td>0.035480</td>\n",
       "      <td>-0.067161</td>\n",
       "      <td>-0.118574</td>\n",
       "      <td>-0.070266</td>\n",
       "      <td>0.006225</td>\n",
       "      <td>-0.037337</td>\n",
       "      <td>-0.062435</td>\n",
       "      <td>-0.054129</td>\n",
       "      <td>-0.010205</td>\n",
       "      <td>0.052188</td>\n",
       "      <td>-0.072152</td>\n",
       "      <td>-0.015358</td>\n",
       "      <td>-0.086383</td>\n",
       "      <td>0.039458</td>\n",
       "      <td>-0.012815</td>\n",
       "      <td>0.062855</td>\n",
       "    </tr>\n",
       "    <tr>\n",
       "      <th>topic_04</th>\n",
       "      <td>-0.067037</td>\n",
       "      <td>0.038076</td>\n",
       "      <td>0.053890</td>\n",
       "      <td>0.035480</td>\n",
       "      <td>1.000000</td>\n",
       "      <td>-0.066767</td>\n",
       "      <td>-0.070311</td>\n",
       "      <td>0.017857</td>\n",
       "      <td>0.016233</td>\n",
       "      <td>-0.039021</td>\n",
       "      <td>0.042161</td>\n",
       "      <td>-0.089112</td>\n",
       "      <td>-0.009211</td>\n",
       "      <td>0.063710</td>\n",
       "      <td>-0.033954</td>\n",
       "      <td>0.033880</td>\n",
       "      <td>-0.035126</td>\n",
       "      <td>-0.057354</td>\n",
       "      <td>-0.119774</td>\n",
       "      <td>-0.023339</td>\n",
       "    </tr>\n",
       "    <tr>\n",
       "      <th>topic_05</th>\n",
       "      <td>0.029273</td>\n",
       "      <td>0.001003</td>\n",
       "      <td>-0.020364</td>\n",
       "      <td>-0.067161</td>\n",
       "      <td>-0.066767</td>\n",
       "      <td>1.000000</td>\n",
       "      <td>0.014423</td>\n",
       "      <td>-0.038376</td>\n",
       "      <td>-0.009091</td>\n",
       "      <td>-0.055128</td>\n",
       "      <td>-0.123505</td>\n",
       "      <td>-0.025858</td>\n",
       "      <td>-0.006039</td>\n",
       "      <td>-0.017172</td>\n",
       "      <td>0.018604</td>\n",
       "      <td>-0.020714</td>\n",
       "      <td>0.033772</td>\n",
       "      <td>-0.057246</td>\n",
       "      <td>-0.038903</td>\n",
       "      <td>0.025737</td>\n",
       "    </tr>\n",
       "    <tr>\n",
       "      <th>topic_06</th>\n",
       "      <td>0.082457</td>\n",
       "      <td>0.014101</td>\n",
       "      <td>-0.214404</td>\n",
       "      <td>-0.118574</td>\n",
       "      <td>-0.070311</td>\n",
       "      <td>0.014423</td>\n",
       "      <td>1.000000</td>\n",
       "      <td>-0.011864</td>\n",
       "      <td>-0.002221</td>\n",
       "      <td>0.070226</td>\n",
       "      <td>-0.272353</td>\n",
       "      <td>-0.116629</td>\n",
       "      <td>0.038748</td>\n",
       "      <td>-0.077632</td>\n",
       "      <td>-0.083688</td>\n",
       "      <td>-0.118766</td>\n",
       "      <td>-0.107609</td>\n",
       "      <td>-0.071107</td>\n",
       "      <td>0.094234</td>\n",
       "      <td>-0.079361</td>\n",
       "    </tr>\n",
       "    <tr>\n",
       "      <th>topic_07</th>\n",
       "      <td>-0.061036</td>\n",
       "      <td>0.000189</td>\n",
       "      <td>-0.104158</td>\n",
       "      <td>-0.070266</td>\n",
       "      <td>0.017857</td>\n",
       "      <td>-0.038376</td>\n",
       "      <td>-0.011864</td>\n",
       "      <td>1.000000</td>\n",
       "      <td>0.015477</td>\n",
       "      <td>-0.106377</td>\n",
       "      <td>0.044363</td>\n",
       "      <td>-0.127707</td>\n",
       "      <td>0.019105</td>\n",
       "      <td>-0.007719</td>\n",
       "      <td>-0.002521</td>\n",
       "      <td>0.043721</td>\n",
       "      <td>-0.067285</td>\n",
       "      <td>-0.055903</td>\n",
       "      <td>-0.076869</td>\n",
       "      <td>-0.048815</td>\n",
       "    </tr>\n",
       "    <tr>\n",
       "      <th>topic_08</th>\n",
       "      <td>0.013256</td>\n",
       "      <td>0.000068</td>\n",
       "      <td>-0.024904</td>\n",
       "      <td>0.006225</td>\n",
       "      <td>0.016233</td>\n",
       "      <td>-0.009091</td>\n",
       "      <td>-0.002221</td>\n",
       "      <td>0.015477</td>\n",
       "      <td>1.000000</td>\n",
       "      <td>-0.026666</td>\n",
       "      <td>-0.030919</td>\n",
       "      <td>-0.021522</td>\n",
       "      <td>0.042332</td>\n",
       "      <td>-0.011746</td>\n",
       "      <td>0.026601</td>\n",
       "      <td>0.090722</td>\n",
       "      <td>-0.014624</td>\n",
       "      <td>0.005500</td>\n",
       "      <td>-0.027881</td>\n",
       "      <td>-0.003882</td>\n",
       "    </tr>\n",
       "    <tr>\n",
       "      <th>topic_09</th>\n",
       "      <td>0.168998</td>\n",
       "      <td>-0.043640</td>\n",
       "      <td>-0.330765</td>\n",
       "      <td>-0.037337</td>\n",
       "      <td>-0.039021</td>\n",
       "      <td>-0.055128</td>\n",
       "      <td>0.070226</td>\n",
       "      <td>-0.106377</td>\n",
       "      <td>-0.026666</td>\n",
       "      <td>1.000000</td>\n",
       "      <td>-0.373318</td>\n",
       "      <td>0.329902</td>\n",
       "      <td>-0.030636</td>\n",
       "      <td>-0.056662</td>\n",
       "      <td>-0.228125</td>\n",
       "      <td>-0.232411</td>\n",
       "      <td>-0.215625</td>\n",
       "      <td>0.071981</td>\n",
       "      <td>-0.221717</td>\n",
       "      <td>-0.079742</td>\n",
       "    </tr>\n",
       "    <tr>\n",
       "      <th>topic_10</th>\n",
       "      <td>-0.150850</td>\n",
       "      <td>-0.033486</td>\n",
       "      <td>0.005522</td>\n",
       "      <td>-0.062435</td>\n",
       "      <td>0.042161</td>\n",
       "      <td>-0.123505</td>\n",
       "      <td>-0.272353</td>\n",
       "      <td>0.044363</td>\n",
       "      <td>-0.030919</td>\n",
       "      <td>-0.373318</td>\n",
       "      <td>1.000000</td>\n",
       "      <td>-0.205196</td>\n",
       "      <td>-0.029273</td>\n",
       "      <td>-0.010381</td>\n",
       "      <td>0.133739</td>\n",
       "      <td>-0.040091</td>\n",
       "      <td>0.043343</td>\n",
       "      <td>-0.123023</td>\n",
       "      <td>-0.262939</td>\n",
       "      <td>-0.056113</td>\n",
       "    </tr>\n",
       "    <tr>\n",
       "      <th>topic_11</th>\n",
       "      <td>0.244460</td>\n",
       "      <td>-0.016615</td>\n",
       "      <td>-0.175213</td>\n",
       "      <td>-0.054129</td>\n",
       "      <td>-0.089112</td>\n",
       "      <td>-0.025858</td>\n",
       "      <td>-0.116629</td>\n",
       "      <td>-0.127707</td>\n",
       "      <td>-0.021522</td>\n",
       "      <td>0.329902</td>\n",
       "      <td>-0.205196</td>\n",
       "      <td>1.000000</td>\n",
       "      <td>-0.022253</td>\n",
       "      <td>-0.042268</td>\n",
       "      <td>-0.110485</td>\n",
       "      <td>-0.063490</td>\n",
       "      <td>-0.093793</td>\n",
       "      <td>0.034200</td>\n",
       "      <td>-0.176526</td>\n",
       "      <td>-0.098990</td>\n",
       "    </tr>\n",
       "    <tr>\n",
       "      <th>topic_12</th>\n",
       "      <td>0.034674</td>\n",
       "      <td>0.010395</td>\n",
       "      <td>-0.037921</td>\n",
       "      <td>-0.010205</td>\n",
       "      <td>-0.009211</td>\n",
       "      <td>-0.006039</td>\n",
       "      <td>0.038748</td>\n",
       "      <td>0.019105</td>\n",
       "      <td>0.042332</td>\n",
       "      <td>-0.030636</td>\n",
       "      <td>-0.029273</td>\n",
       "      <td>-0.022253</td>\n",
       "      <td>1.000000</td>\n",
       "      <td>-0.003540</td>\n",
       "      <td>0.015936</td>\n",
       "      <td>0.039262</td>\n",
       "      <td>0.000846</td>\n",
       "      <td>0.016441</td>\n",
       "      <td>-0.000634</td>\n",
       "      <td>-0.001814</td>\n",
       "    </tr>\n",
       "    <tr>\n",
       "      <th>topic_13</th>\n",
       "      <td>-0.037426</td>\n",
       "      <td>0.005832</td>\n",
       "      <td>0.115719</td>\n",
       "      <td>0.052188</td>\n",
       "      <td>0.063710</td>\n",
       "      <td>-0.017172</td>\n",
       "      <td>-0.077632</td>\n",
       "      <td>-0.007719</td>\n",
       "      <td>-0.011746</td>\n",
       "      <td>-0.056662</td>\n",
       "      <td>-0.010381</td>\n",
       "      <td>-0.042268</td>\n",
       "      <td>-0.003540</td>\n",
       "      <td>1.000000</td>\n",
       "      <td>-0.017562</td>\n",
       "      <td>0.019323</td>\n",
       "      <td>-0.023217</td>\n",
       "      <td>-0.042954</td>\n",
       "      <td>-0.086913</td>\n",
       "      <td>-0.028499</td>\n",
       "    </tr>\n",
       "    <tr>\n",
       "      <th>topic_14</th>\n",
       "      <td>-0.061846</td>\n",
       "      <td>0.035632</td>\n",
       "      <td>0.052833</td>\n",
       "      <td>-0.072152</td>\n",
       "      <td>-0.033954</td>\n",
       "      <td>0.018604</td>\n",
       "      <td>-0.083688</td>\n",
       "      <td>-0.002521</td>\n",
       "      <td>0.026601</td>\n",
       "      <td>-0.228125</td>\n",
       "      <td>0.133739</td>\n",
       "      <td>-0.110485</td>\n",
       "      <td>0.015936</td>\n",
       "      <td>-0.017562</td>\n",
       "      <td>1.000000</td>\n",
       "      <td>0.036478</td>\n",
       "      <td>0.125254</td>\n",
       "      <td>-0.060047</td>\n",
       "      <td>-0.086556</td>\n",
       "      <td>0.009741</td>\n",
       "    </tr>\n",
       "    <tr>\n",
       "      <th>topic_15</th>\n",
       "      <td>-0.056844</td>\n",
       "      <td>0.030137</td>\n",
       "      <td>-0.059569</td>\n",
       "      <td>-0.015358</td>\n",
       "      <td>0.033880</td>\n",
       "      <td>-0.020714</td>\n",
       "      <td>-0.118766</td>\n",
       "      <td>0.043721</td>\n",
       "      <td>0.090722</td>\n",
       "      <td>-0.232411</td>\n",
       "      <td>-0.040091</td>\n",
       "      <td>-0.063490</td>\n",
       "      <td>0.039262</td>\n",
       "      <td>0.019323</td>\n",
       "      <td>0.036478</td>\n",
       "      <td>1.000000</td>\n",
       "      <td>-0.008794</td>\n",
       "      <td>0.154020</td>\n",
       "      <td>-0.146311</td>\n",
       "      <td>0.074519</td>\n",
       "    </tr>\n",
       "    <tr>\n",
       "      <th>topic_16</th>\n",
       "      <td>-0.054092</td>\n",
       "      <td>-0.003575</td>\n",
       "      <td>0.119258</td>\n",
       "      <td>-0.086383</td>\n",
       "      <td>-0.035126</td>\n",
       "      <td>0.033772</td>\n",
       "      <td>-0.107609</td>\n",
       "      <td>-0.067285</td>\n",
       "      <td>-0.014624</td>\n",
       "      <td>-0.215625</td>\n",
       "      <td>0.043343</td>\n",
       "      <td>-0.093793</td>\n",
       "      <td>0.000846</td>\n",
       "      <td>-0.023217</td>\n",
       "      <td>0.125254</td>\n",
       "      <td>-0.008794</td>\n",
       "      <td>1.000000</td>\n",
       "      <td>-0.060043</td>\n",
       "      <td>-0.099300</td>\n",
       "      <td>0.035040</td>\n",
       "    </tr>\n",
       "    <tr>\n",
       "      <th>topic_17</th>\n",
       "      <td>-0.024198</td>\n",
       "      <td>-0.014249</td>\n",
       "      <td>-0.101543</td>\n",
       "      <td>0.039458</td>\n",
       "      <td>-0.057354</td>\n",
       "      <td>-0.057246</td>\n",
       "      <td>-0.071107</td>\n",
       "      <td>-0.055903</td>\n",
       "      <td>0.005500</td>\n",
       "      <td>0.071981</td>\n",
       "      <td>-0.123023</td>\n",
       "      <td>0.034200</td>\n",
       "      <td>0.016441</td>\n",
       "      <td>-0.042954</td>\n",
       "      <td>-0.060047</td>\n",
       "      <td>0.154020</td>\n",
       "      <td>-0.060043</td>\n",
       "      <td>1.000000</td>\n",
       "      <td>-0.065369</td>\n",
       "      <td>0.043022</td>\n",
       "    </tr>\n",
       "    <tr>\n",
       "      <th>topic_18</th>\n",
       "      <td>-0.075254</td>\n",
       "      <td>0.019317</td>\n",
       "      <td>-0.323050</td>\n",
       "      <td>-0.012815</td>\n",
       "      <td>-0.119774</td>\n",
       "      <td>-0.038903</td>\n",
       "      <td>0.094234</td>\n",
       "      <td>-0.076869</td>\n",
       "      <td>-0.027881</td>\n",
       "      <td>-0.221717</td>\n",
       "      <td>-0.262939</td>\n",
       "      <td>-0.176526</td>\n",
       "      <td>-0.000634</td>\n",
       "      <td>-0.086913</td>\n",
       "      <td>-0.086556</td>\n",
       "      <td>-0.146311</td>\n",
       "      <td>-0.099300</td>\n",
       "      <td>-0.065369</td>\n",
       "      <td>1.000000</td>\n",
       "      <td>-0.135597</td>\n",
       "    </tr>\n",
       "    <tr>\n",
       "      <th>topic_19</th>\n",
       "      <td>-0.044866</td>\n",
       "      <td>-0.009596</td>\n",
       "      <td>0.086688</td>\n",
       "      <td>0.062855</td>\n",
       "      <td>-0.023339</td>\n",
       "      <td>0.025737</td>\n",
       "      <td>-0.079361</td>\n",
       "      <td>-0.048815</td>\n",
       "      <td>-0.003882</td>\n",
       "      <td>-0.079742</td>\n",
       "      <td>-0.056113</td>\n",
       "      <td>-0.098990</td>\n",
       "      <td>-0.001814</td>\n",
       "      <td>-0.028499</td>\n",
       "      <td>0.009741</td>\n",
       "      <td>0.074519</td>\n",
       "      <td>0.035040</td>\n",
       "      <td>0.043022</td>\n",
       "      <td>-0.135597</td>\n",
       "      <td>1.000000</td>\n",
       "    </tr>\n",
       "  </tbody>\n",
       "</table>\n",
       "</div>"
      ],
      "text/plain": [
       "          topic_00  topic_01  topic_02  topic_03  topic_04  topic_05  \\\n",
       "topic_00  1.000000  0.015159 -0.150680 -0.061452 -0.067037  0.029273   \n",
       "topic_01  0.015159  1.000000 -0.015622 -0.015912  0.038076  0.001003   \n",
       "topic_02 -0.150680 -0.015622  1.000000 -0.047001  0.053890 -0.020364   \n",
       "topic_03 -0.061452 -0.015912 -0.047001  1.000000  0.035480 -0.067161   \n",
       "topic_04 -0.067037  0.038076  0.053890  0.035480  1.000000 -0.066767   \n",
       "topic_05  0.029273  0.001003 -0.020364 -0.067161 -0.066767  1.000000   \n",
       "topic_06  0.082457  0.014101 -0.214404 -0.118574 -0.070311  0.014423   \n",
       "topic_07 -0.061036  0.000189 -0.104158 -0.070266  0.017857 -0.038376   \n",
       "topic_08  0.013256  0.000068 -0.024904  0.006225  0.016233 -0.009091   \n",
       "topic_09  0.168998 -0.043640 -0.330765 -0.037337 -0.039021 -0.055128   \n",
       "topic_10 -0.150850 -0.033486  0.005522 -0.062435  0.042161 -0.123505   \n",
       "topic_11  0.244460 -0.016615 -0.175213 -0.054129 -0.089112 -0.025858   \n",
       "topic_12  0.034674  0.010395 -0.037921 -0.010205 -0.009211 -0.006039   \n",
       "topic_13 -0.037426  0.005832  0.115719  0.052188  0.063710 -0.017172   \n",
       "topic_14 -0.061846  0.035632  0.052833 -0.072152 -0.033954  0.018604   \n",
       "topic_15 -0.056844  0.030137 -0.059569 -0.015358  0.033880 -0.020714   \n",
       "topic_16 -0.054092 -0.003575  0.119258 -0.086383 -0.035126  0.033772   \n",
       "topic_17 -0.024198 -0.014249 -0.101543  0.039458 -0.057354 -0.057246   \n",
       "topic_18 -0.075254  0.019317 -0.323050 -0.012815 -0.119774 -0.038903   \n",
       "topic_19 -0.044866 -0.009596  0.086688  0.062855 -0.023339  0.025737   \n",
       "\n",
       "          topic_06  topic_07  topic_08  topic_09  topic_10  topic_11  \\\n",
       "topic_00  0.082457 -0.061036  0.013256  0.168998 -0.150850  0.244460   \n",
       "topic_01  0.014101  0.000189  0.000068 -0.043640 -0.033486 -0.016615   \n",
       "topic_02 -0.214404 -0.104158 -0.024904 -0.330765  0.005522 -0.175213   \n",
       "topic_03 -0.118574 -0.070266  0.006225 -0.037337 -0.062435 -0.054129   \n",
       "topic_04 -0.070311  0.017857  0.016233 -0.039021  0.042161 -0.089112   \n",
       "topic_05  0.014423 -0.038376 -0.009091 -0.055128 -0.123505 -0.025858   \n",
       "topic_06  1.000000 -0.011864 -0.002221  0.070226 -0.272353 -0.116629   \n",
       "topic_07 -0.011864  1.000000  0.015477 -0.106377  0.044363 -0.127707   \n",
       "topic_08 -0.002221  0.015477  1.000000 -0.026666 -0.030919 -0.021522   \n",
       "topic_09  0.070226 -0.106377 -0.026666  1.000000 -0.373318  0.329902   \n",
       "topic_10 -0.272353  0.044363 -0.030919 -0.373318  1.000000 -0.205196   \n",
       "topic_11 -0.116629 -0.127707 -0.021522  0.329902 -0.205196  1.000000   \n",
       "topic_12  0.038748  0.019105  0.042332 -0.030636 -0.029273 -0.022253   \n",
       "topic_13 -0.077632 -0.007719 -0.011746 -0.056662 -0.010381 -0.042268   \n",
       "topic_14 -0.083688 -0.002521  0.026601 -0.228125  0.133739 -0.110485   \n",
       "topic_15 -0.118766  0.043721  0.090722 -0.232411 -0.040091 -0.063490   \n",
       "topic_16 -0.107609 -0.067285 -0.014624 -0.215625  0.043343 -0.093793   \n",
       "topic_17 -0.071107 -0.055903  0.005500  0.071981 -0.123023  0.034200   \n",
       "topic_18  0.094234 -0.076869 -0.027881 -0.221717 -0.262939 -0.176526   \n",
       "topic_19 -0.079361 -0.048815 -0.003882 -0.079742 -0.056113 -0.098990   \n",
       "\n",
       "          topic_12  topic_13  topic_14  topic_15  topic_16  topic_17  \\\n",
       "topic_00  0.034674 -0.037426 -0.061846 -0.056844 -0.054092 -0.024198   \n",
       "topic_01  0.010395  0.005832  0.035632  0.030137 -0.003575 -0.014249   \n",
       "topic_02 -0.037921  0.115719  0.052833 -0.059569  0.119258 -0.101543   \n",
       "topic_03 -0.010205  0.052188 -0.072152 -0.015358 -0.086383  0.039458   \n",
       "topic_04 -0.009211  0.063710 -0.033954  0.033880 -0.035126 -0.057354   \n",
       "topic_05 -0.006039 -0.017172  0.018604 -0.020714  0.033772 -0.057246   \n",
       "topic_06  0.038748 -0.077632 -0.083688 -0.118766 -0.107609 -0.071107   \n",
       "topic_07  0.019105 -0.007719 -0.002521  0.043721 -0.067285 -0.055903   \n",
       "topic_08  0.042332 -0.011746  0.026601  0.090722 -0.014624  0.005500   \n",
       "topic_09 -0.030636 -0.056662 -0.228125 -0.232411 -0.215625  0.071981   \n",
       "topic_10 -0.029273 -0.010381  0.133739 -0.040091  0.043343 -0.123023   \n",
       "topic_11 -0.022253 -0.042268 -0.110485 -0.063490 -0.093793  0.034200   \n",
       "topic_12  1.000000 -0.003540  0.015936  0.039262  0.000846  0.016441   \n",
       "topic_13 -0.003540  1.000000 -0.017562  0.019323 -0.023217 -0.042954   \n",
       "topic_14  0.015936 -0.017562  1.000000  0.036478  0.125254 -0.060047   \n",
       "topic_15  0.039262  0.019323  0.036478  1.000000 -0.008794  0.154020   \n",
       "topic_16  0.000846 -0.023217  0.125254 -0.008794  1.000000 -0.060043   \n",
       "topic_17  0.016441 -0.042954 -0.060047  0.154020 -0.060043  1.000000   \n",
       "topic_18 -0.000634 -0.086913 -0.086556 -0.146311 -0.099300 -0.065369   \n",
       "topic_19 -0.001814 -0.028499  0.009741  0.074519  0.035040  0.043022   \n",
       "\n",
       "          topic_18  topic_19  \n",
       "topic_00 -0.075254 -0.044866  \n",
       "topic_01  0.019317 -0.009596  \n",
       "topic_02 -0.323050  0.086688  \n",
       "topic_03 -0.012815  0.062855  \n",
       "topic_04 -0.119774 -0.023339  \n",
       "topic_05 -0.038903  0.025737  \n",
       "topic_06  0.094234 -0.079361  \n",
       "topic_07 -0.076869 -0.048815  \n",
       "topic_08 -0.027881 -0.003882  \n",
       "topic_09 -0.221717 -0.079742  \n",
       "topic_10 -0.262939 -0.056113  \n",
       "topic_11 -0.176526 -0.098990  \n",
       "topic_12 -0.000634 -0.001814  \n",
       "topic_13 -0.086913 -0.028499  \n",
       "topic_14 -0.086556  0.009741  \n",
       "topic_15 -0.146311  0.074519  \n",
       "topic_16 -0.099300  0.035040  \n",
       "topic_17 -0.065369  0.043022  \n",
       "topic_18  1.000000 -0.135597  \n",
       "topic_19 -0.135597  1.000000  "
      ]
     },
     "execution_count": 31,
     "metadata": {},
     "output_type": "execute_result"
    }
   ],
   "source": [
    "c"
   ]
  },
  {
   "cell_type": "code",
   "execution_count": null,
   "metadata": {
    "scrolled": true
   },
   "outputs": [],
   "source": [
    "# ones = df[cols].apply(np.ceil)\n",
    "# c = ones[cols].corr()"
   ]
  },
  {
   "cell_type": "code",
   "execution_count": 30,
   "metadata": {
    "scrolled": false
   },
   "outputs": [
    {
     "data": {
      "image/png": "[encoded data removed]",
      "text/plain": [
       "<Figure size 792x648 with 2 Axes>"
      ]
     },
     "metadata": {
      "needs_background": "light"
     },
     "output_type": "display_data"
    }
   ],
   "source": [
    "import seaborn as sns\n",
    "# mask = np.triu(np.ones_like(c, dtype=bool))\n",
    "\n",
    "# Set up the matplotlib figure\n",
    "f, ax = plt.subplots(figsize=(11, 9))\n",
    "\n",
    "# Generate a custom diverging colormap\n",
    "cmap = sns.diverging_palette(230, 20, as_cmap=True)\n",
    "\n",
    "# Draw the heatmap with the mask and correct aspect ratio\n",
    "sns.heatmap(c, cmap=cmap, vmax=.3, center=0,\n",
    "            square=True, linewidths=.5, cbar_kws={\"shrink\": .5})\n",
    "plt.savefig(path_parent / \"plots\" / \"topic_corr_{}_{}.png\".format(sf, str(n)))"
   ]
  },
  {
   "cell_type": "code",
   "execution_count": null,
   "metadata": {},
   "outputs": [],
   "source": [
    "df_sen = df.merge(clean_text[['message_id','com_sen_clean']], on=\"message_id\", how=\"left\")"
   ]
  },
  {
   "cell_type": "code",
   "execution_count": null,
   "metadata": {
    "scrolled": true
   },
   "outputs": [],
   "source": [
    "df_sen['topic'] = df_sen[cols].idxmax(axis=1)"
   ]
  },
  {
   "cell_type": "code",
   "execution_count": null,
   "metadata": {
    "scrolled": true
   },
   "outputs": [],
   "source": [
    "g = sns.boxplot(x=\"topic\", y=\"com_sen_clean\", data=df_sen, width=0.5)\n",
    "g.set_xticklabels(g.get_xticklabels(), rotation=30)"
   ]
  },
  {
   "cell_type": "code",
   "execution_count": null,
   "metadata": {
    "scrolled": false
   },
   "outputs": [],
   "source": [
    "df_sen.groupby('topic')['com_sen_clean'].mean()"
   ]
  },
  {
   "cell_type": "code",
   "execution_count": null,
   "metadata": {},
   "outputs": [],
   "source": []
  },
  {
   "cell_type": "markdown",
   "metadata": {},
   "source": [
    "## Toddler"
   ]
  },
  {
   "cell_type": "code",
   "execution_count": null,
   "metadata": {},
   "outputs": [],
   "source": [
    "sf = \"toddler\"\n",
    "n = 15"
   ]
  },
  {
   "cell_type": "code",
   "execution_count": null,
   "metadata": {},
   "outputs": [],
   "source": [
    "lemmatized_text, corpus, dictionary = load_data(sf, group, id_type)"
   ]
  },
  {
   "cell_type": "code",
   "execution_count": null,
   "metadata": {},
   "outputs": [],
   "source": [
    "mod_dict = {}\n",
    "for i in args[sf][\"n_topics\"]:\n",
    "    mod_dict[str(i)] = LdaModel.load(path_ntopic_models.format(sf, group, id_type, str(i)))"
   ]
  },
  {
   "cell_type": "code",
   "execution_count": null,
   "metadata": {},
   "outputs": [],
   "source": [
    "clean_text = pd.read_csv(path_clean_text.format(sf, group))\n",
    "temp = clean_text[['family_id']]\n",
    "temp.to_sql(\"temp\", conn, if_exists='replace')"
   ]
  },
  {
   "cell_type": "code",
   "execution_count": null,
   "metadata": {},
   "outputs": [],
   "source": [
    "date_sql = '''\n",
    "    SELECT family_id, message_id, date_created\n",
    "    FROM posts\n",
    "    WHERE subforum=?\n",
    "        AND parent_id=\"\"\n",
    "        AND family_id IN (SELECT family_id FROM temp)\n",
    "'''"
   ]
  },
  {
   "cell_type": "code",
   "execution_count": null,
   "metadata": {},
   "outputs": [],
   "source": [
    "dates = pd.read_sql(date_sql, conn, params=(sf,))"
   ]
  },
  {
   "cell_type": "code",
   "execution_count": null,
   "metadata": {
    "scrolled": true
   },
   "outputs": [],
   "source": [
    "text = clean_text[['family_id','text_clean']].groupby(['family_id'])['text_clean'].apply(' '.join)\n",
    "text = text.to_frame()\n",
    "text.reset_index(inplace=True)\n",
    "df = text.merge(dates, how=\"right\", on=\"family_id\")\n",
    "df['date_created'] = pd.to_datetime(df['date_created'])\n",
    "out = np.zeros((len(corpus), n), dtype=float, order='C')\n",
    "for i, doc in enumerate(corpus):\n",
    "    topics = mod_dict[str(n)].get_document_topics(doc)\n",
    "    for j, score in topics:\n",
    "        out[i,j] = score\n",
    "cols = gen_cols(n)\n",
    "df = pd.concat([df, pd.DataFrame(out, columns=cols)], axis=1)\n",
    "df = df.set_index(['date_created'])\n",
    "weeks = df[cols].groupby(pd.Grouper(freq='W')).sum()\n",
    "weeks['total'] = weeks[cols].sum(axis=1)\n",
    "months = df[cols].groupby(pd.Grouper(freq='M')).sum()\n",
    "months['total'] = months[cols].sum(axis=1)\n",
    "months[cols] = months[cols].div(months[\"total\"], axis=0)\n",
    "cummonth = months[cols].cumsum(axis=1)\n",
    "months.to_csv(path_data.format(sf, group, id_type, str(n), \"month\"), index=False)\n",
    "weeks.to_csv(path_data.format(sf, group, id_type, str(n), \"week\"), index=False)"
   ]
  },
  {
   "cell_type": "code",
   "execution_count": null,
   "metadata": {},
   "outputs": [],
   "source": [
    "colsums = pd.DataFrame(out).sum()\n",
    "totalsum = colsums.sum()\n",
    "100 * colsums / totalsum"
   ]
  },
  {
   "cell_type": "code",
   "execution_count": null,
   "metadata": {},
   "outputs": [],
   "source": [
    "df.to_csv(path_data.format(sf, group, id_type, str(n), \"df\"), index=False)"
   ]
  },
  {
   "cell_type": "code",
   "execution_count": null,
   "metadata": {
    "scrolled": false
   },
   "outputs": [],
   "source": [
    "from matplotlib import pyplot as plt\n",
    "from matplotlib.pyplot import figure\n",
    "fig, ax = plt.subplots()\n",
    "width = 0.35\n",
    "colors = [\"95F9C3\",\"8EEFBE\",\"86E5B9\",\"7FDBB4\",\"78D0AF\",\"71C6AB\",\"69BCA6\",\"62B2A1\",\"5BA89C\",\"549E97\",\"4C9392\",\"45898D\",\"3E7F88\",\"377583\",\"2F6B7E\",\"28617A\",\"215675\",\"1A4C70\",\"12426B\",\"0B3866\"]\n",
    "ax.bar(months.index, months[cols[0]], width=100, label='Topic {}'.format(0), color=hex(colors[0]))\n",
    "for i in range(1, n):\n",
    "    ax.bar(months.index, months[cols[i]], bottom=cummonth[cols[i-1]], width=100, label='Topic {}'.format(i), color=hex(colors[i]))\n",
    "# ax.bar(months.index, women_means, width, yerr=women_std, bottom=men_means,\n",
    "#        label='Women')\n",
    "# ax.set_ylabel('Scores')\n",
    "# ax.set_title('Scores by group and gender')\n",
    "ax.legend(loc='center left', bbox_to_anchor=(1, 0.5))\n",
    "fig.set_size_inches(12, 10)\n",
    "fig.savefig(path_parent / \"plots\" / \"topic_distribution_{}_{}.png\".format(sf, str(n)))"
   ]
  },
  {
   "cell_type": "code",
   "execution_count": null,
   "metadata": {},
   "outputs": [],
   "source": []
  },
  {
   "cell_type": "markdown",
   "metadata": {},
   "source": [
    "## Visualize Topics"
   ]
  },
  {
   "cell_type": "code",
   "execution_count": null,
   "metadata": {},
   "outputs": [],
   "source": [
    "pyLDAvis.display(pyLDAvis.gensim.prepare(ldamodel, corpus, dictionary, sort_topics=False))"
   ]
  },
  {
   "cell_type": "markdown",
   "metadata": {},
   "source": [
    "## Most Representative Post for Each Topic"
   ]
  },
  {
   "cell_type": "code",
   "execution_count": null,
   "metadata": {},
   "outputs": [],
   "source": [
    "topic_sentences = format_topics_sentences(ldamodel, corpus)"
   ]
  },
  {
   "cell_type": "code",
   "execution_count": null,
   "metadata": {
    "scrolled": true
   },
   "outputs": [],
   "source": [
    "topic_sentences.info()"
   ]
  },
  {
   "cell_type": "code",
   "execution_count": null,
   "metadata": {},
   "outputs": [],
   "source": [
    "df_joined = pd.concat([df.reset_index(drop=True), topic_sentences.reset_index(drop=True)], axis=1)"
   ]
  },
  {
   "cell_type": "code",
   "execution_count": null,
   "metadata": {},
   "outputs": [],
   "source": [
    "df_joined.to_csv(path_topic.format('special-needs', 'all'), sep='\\t', index=False)"
   ]
  },
  {
   "cell_type": "code",
   "execution_count": null,
   "metadata": {},
   "outputs": [],
   "source": [
    "topic_dominant = pd.DataFrame()\n",
    "topic_grouped = df_joined.groupby('Dominant_Topic')\n",
    "for i, grp in topic_grouped:\n",
    "    topic_dominant = pd.concat([topic_dominant,\n",
    "                                grp.sort_values(['Perc_Contribution'],\n",
    "                                                ascending=[0]).head(3)],\n",
    "                               axis=0)\n",
    "topic_dominant.reset_index(drop=True, inplace=True)\n",
    "topic_dominant.info()"
   ]
  },
  {
   "cell_type": "code",
   "execution_count": null,
   "metadata": {
    "scrolled": false
   },
   "outputs": [],
   "source": [
    "for t in topic_dominant['text_clean']:\n",
    "    print(t)"
   ]
  }
 ],
 "metadata": {
  "kernelspec": {
   "display_name": "Python 3",
   "language": "python",
   "name": "python3"
  },
  "language_info": {
   "codemirror_mode": {
    "name": "ipython",
    "version": 3
   },
   "file_extension": ".py",
   "mimetype": "text/x-python",
   "name": "python",
   "nbconvert_exporter": "python",
   "pygments_lexer": "ipython3",
   "version": "3.8.5"
  }
 },
 "nbformat": 4,
 "nbformat_minor": 4
}
