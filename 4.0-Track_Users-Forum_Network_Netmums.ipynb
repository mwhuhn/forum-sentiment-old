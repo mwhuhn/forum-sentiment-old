{
 "cells": [
  {
   "cell_type": "markdown",
   "metadata": {},
   "source": [
    "# Create User Network\n",
    "This script creates a network from user posts"
   ]
  },
  {
   "cell_type": "markdown",
   "metadata": {},
   "source": [
    "## Imports"
   ]
  },
  {
   "cell_type": "code",
   "execution_count": 81,
   "metadata": {},
   "outputs": [],
   "source": [
    "import sqlite3\n",
    "from pathlib import Path\n",
    "from scraping import create_connection\n",
    "import pandas as pd\n",
    "import numpy as np\n",
    "import networkx as nx"
   ]
  },
  {
   "cell_type": "markdown",
   "metadata": {},
   "source": [
    "## File Locations"
   ]
  },
  {
   "cell_type": "code",
   "execution_count": 4,
   "metadata": {},
   "outputs": [],
   "source": [
    "p = Path.cwd()\n",
    "path_parent = p.parents[0]"
   ]
  },
  {
   "cell_type": "code",
   "execution_count": 75,
   "metadata": {},
   "outputs": [],
   "source": [
    "db = \"netmums-merged.db\"\n",
    "path_db = str(path_parent / \"database\" / db)\n",
    "path_network_data = path_parent / \"clean_data\" / \"network\"\n",
    "conn = create_connection(path_db)"
   ]
  },
  {
   "cell_type": "code",
   "execution_count": 26,
   "metadata": {},
   "outputs": [],
   "source": [
    "network_sql = \"\"\"\n",
    "    SELECT\n",
    "        COUNT(*) AS n_posts,\n",
    "        f.id,\n",
    "        f.name,\n",
    "        p.user_url\n",
    "    FROM posts AS p\n",
    "    LEFT JOIN threads AS t\n",
    "    ON t.id=p.thread_id\n",
    "    LEFT JOIN subforums AS s\n",
    "    ON s.id=t.subforum_id\n",
    "    LEFT JOIN forums AS f\n",
    "    ON f.id=s.forum_id\n",
    "    WHERE p.user_url!=\"Anonymous\"\n",
    "    GROUP BY\n",
    "        p.user_url,\n",
    "        f.id\n",
    "\"\"\""
   ]
  },
  {
   "cell_type": "code",
   "execution_count": 37,
   "metadata": {},
   "outputs": [],
   "source": [
    "network = pd.read_sql(network_sql, conn)"
   ]
  },
  {
   "cell_type": "code",
   "execution_count": 88,
   "metadata": {},
   "outputs": [
    {
     "data": {
      "text/html": [
       "<div>\n",
       "<style scoped>\n",
       "    .dataframe tbody tr th:only-of-type {\n",
       "        vertical-align: middle;\n",
       "    }\n",
       "\n",
       "    .dataframe tbody tr th {\n",
       "        vertical-align: top;\n",
       "    }\n",
       "\n",
       "    .dataframe thead th {\n",
       "        text-align: right;\n",
       "    }\n",
       "</style>\n",
       "<table border=\"1\" class=\"dataframe\">\n",
       "  <thead>\n",
       "    <tr style=\"text-align: right;\">\n",
       "      <th></th>\n",
       "      <th>id</th>\n",
       "      <th>name</th>\n",
       "    </tr>\n",
       "  </thead>\n",
       "  <tbody>\n",
       "    <tr>\n",
       "      <th>0</th>\n",
       "      <td>17</td>\n",
       "      <td>Life</td>\n",
       "    </tr>\n",
       "    <tr>\n",
       "      <th>1</th>\n",
       "      <td>21</td>\n",
       "      <td>Other chat</td>\n",
       "    </tr>\n",
       "    <tr>\n",
       "      <th>2</th>\n",
       "      <td>2</td>\n",
       "      <td>Becoming a mum: TTC</td>\n",
       "    </tr>\n",
       "    <tr>\n",
       "      <th>3</th>\n",
       "      <td>3</td>\n",
       "      <td>Becoming a mum: pregnancy</td>\n",
       "    </tr>\n",
       "    <tr>\n",
       "      <th>4</th>\n",
       "      <td>9</td>\n",
       "      <td>Drop-In Clinic</td>\n",
       "    </tr>\n",
       "    <tr>\n",
       "      <th>5</th>\n",
       "      <td>18</td>\n",
       "      <td>Local chat and make friends</td>\n",
       "    </tr>\n",
       "    <tr>\n",
       "      <th>10</th>\n",
       "      <td>1</td>\n",
       "      <td>Product tests, sponsored chat and competitions</td>\n",
       "    </tr>\n",
       "    <tr>\n",
       "      <th>12</th>\n",
       "      <td>5</td>\n",
       "      <td>Being a mum</td>\n",
       "    </tr>\n",
       "    <tr>\n",
       "      <th>14</th>\n",
       "      <td>11</td>\n",
       "      <td>Family food and recipes</td>\n",
       "    </tr>\n",
       "    <tr>\n",
       "      <th>16</th>\n",
       "      <td>25</td>\n",
       "      <td>Travel</td>\n",
       "    </tr>\n",
       "    <tr>\n",
       "      <th>20</th>\n",
       "      <td>14</td>\n",
       "      <td>Health and wellbeing</td>\n",
       "    </tr>\n",
       "    <tr>\n",
       "      <th>22</th>\n",
       "      <td>26</td>\n",
       "      <td>Work</td>\n",
       "    </tr>\n",
       "    <tr>\n",
       "      <th>27</th>\n",
       "      <td>8</td>\n",
       "      <td>Diets</td>\n",
       "    </tr>\n",
       "    <tr>\n",
       "      <th>31</th>\n",
       "      <td>20</td>\n",
       "      <td>Money advice</td>\n",
       "    </tr>\n",
       "    <tr>\n",
       "      <th>36</th>\n",
       "      <td>24</td>\n",
       "      <td>Special needs and disabilities</td>\n",
       "    </tr>\n",
       "    <tr>\n",
       "      <th>62</th>\n",
       "      <td>4</td>\n",
       "      <td>Becoming a mum: labour and birth</td>\n",
       "    </tr>\n",
       "    <tr>\n",
       "      <th>66</th>\n",
       "      <td>12</td>\n",
       "      <td>Fitness</td>\n",
       "    </tr>\n",
       "    <tr>\n",
       "      <th>67</th>\n",
       "      <td>13</td>\n",
       "      <td>Forum FAQs</td>\n",
       "    </tr>\n",
       "    <tr>\n",
       "      <th>69</th>\n",
       "      <td>15</td>\n",
       "      <td>Home and garden</td>\n",
       "    </tr>\n",
       "    <tr>\n",
       "      <th>70</th>\n",
       "      <td>16</td>\n",
       "      <td>Legal and social services</td>\n",
       "    </tr>\n",
       "    <tr>\n",
       "      <th>74</th>\n",
       "      <td>22</td>\n",
       "      <td>Pregnancy terminations</td>\n",
       "    </tr>\n",
       "    <tr>\n",
       "      <th>75</th>\n",
       "      <td>23</td>\n",
       "      <td>Products</td>\n",
       "    </tr>\n",
       "    <tr>\n",
       "      <th>82</th>\n",
       "      <td>6</td>\n",
       "      <td>Childcare</td>\n",
       "    </tr>\n",
       "    <tr>\n",
       "      <th>83</th>\n",
       "      <td>7</td>\n",
       "      <td>Coronavirus</td>\n",
       "    </tr>\n",
       "    <tr>\n",
       "      <th>85</th>\n",
       "      <td>10</td>\n",
       "      <td>Education</td>\n",
       "    </tr>\n",
       "    <tr>\n",
       "      <th>92</th>\n",
       "      <td>19</td>\n",
       "      <td>Media and research requests</td>\n",
       "    </tr>\n",
       "  </tbody>\n",
       "</table>\n",
       "</div>"
      ],
      "text/plain": [
       "    id                                            name\n",
       "0   17                                            Life\n",
       "1   21                                      Other chat\n",
       "2    2                             Becoming a mum: TTC\n",
       "3    3                       Becoming a mum: pregnancy\n",
       "4    9                                  Drop-In Clinic\n",
       "5   18                     Local chat and make friends\n",
       "10   1  Product tests, sponsored chat and competitions\n",
       "12   5                                     Being a mum\n",
       "14  11                         Family food and recipes\n",
       "16  25                                          Travel\n",
       "20  14                            Health and wellbeing\n",
       "22  26                                            Work\n",
       "27   8                                           Diets\n",
       "31  20                                    Money advice\n",
       "36  24                  Special needs and disabilities\n",
       "62   4                Becoming a mum: labour and birth\n",
       "66  12                                         Fitness\n",
       "67  13                                      Forum FAQs\n",
       "69  15                                 Home and garden\n",
       "70  16                       Legal and social services\n",
       "74  22                          Pregnancy terminations\n",
       "75  23                                        Products\n",
       "82   6                                       Childcare\n",
       "83   7                                     Coronavirus\n",
       "85  10                                       Education\n",
       "92  19                     Media and research requests"
      ]
     },
     "execution_count": 88,
     "metadata": {},
     "output_type": "execute_result"
    }
   ],
   "source": [
    "network[['id','name']].drop_duplicates()"
   ]
  },
  {
   "cell_type": "code",
   "execution_count": 38,
   "metadata": {
    "scrolled": true
   },
   "outputs": [
    {
     "data": {
      "text/html": [
       "<div>\n",
       "<style scoped>\n",
       "    .dataframe tbody tr th:only-of-type {\n",
       "        vertical-align: middle;\n",
       "    }\n",
       "\n",
       "    .dataframe tbody tr th {\n",
       "        vertical-align: top;\n",
       "    }\n",
       "\n",
       "    .dataframe thead th {\n",
       "        text-align: right;\n",
       "    }\n",
       "</style>\n",
       "<table border=\"1\" class=\"dataframe\">\n",
       "  <thead>\n",
       "    <tr style=\"text-align: right;\">\n",
       "      <th></th>\n",
       "      <th>n_posts</th>\n",
       "      <th>id</th>\n",
       "      <th>name</th>\n",
       "      <th>user_url</th>\n",
       "    </tr>\n",
       "  </thead>\n",
       "  <tbody>\n",
       "    <tr>\n",
       "      <th>0</th>\n",
       "      <td>1</td>\n",
       "      <td>17</td>\n",
       "      <td>Life</td>\n",
       "      <td>01smith-c</td>\n",
       "    </tr>\n",
       "    <tr>\n",
       "      <th>1</th>\n",
       "      <td>1</td>\n",
       "      <td>21</td>\n",
       "      <td>Other chat</td>\n",
       "      <td>01smith-c</td>\n",
       "    </tr>\n",
       "    <tr>\n",
       "      <th>2</th>\n",
       "      <td>14</td>\n",
       "      <td>2</td>\n",
       "      <td>Becoming a mum: TTC</td>\n",
       "      <td>0407nc</td>\n",
       "    </tr>\n",
       "    <tr>\n",
       "      <th>3</th>\n",
       "      <td>16</td>\n",
       "      <td>3</td>\n",
       "      <td>Becoming a mum: pregnancy</td>\n",
       "      <td>0407nc</td>\n",
       "    </tr>\n",
       "    <tr>\n",
       "      <th>4</th>\n",
       "      <td>1</td>\n",
       "      <td>9</td>\n",
       "      <td>Drop-In Clinic</td>\n",
       "      <td>0407nc</td>\n",
       "    </tr>\n",
       "  </tbody>\n",
       "</table>\n",
       "</div>"
      ],
      "text/plain": [
       "   n_posts  id                       name   user_url\n",
       "0        1  17                       Life  01smith-c\n",
       "1        1  21                 Other chat  01smith-c\n",
       "2       14   2        Becoming a mum: TTC     0407nc\n",
       "3       16   3  Becoming a mum: pregnancy     0407nc\n",
       "4        1   9             Drop-In Clinic     0407nc"
      ]
     },
     "execution_count": 38,
     "metadata": {},
     "output_type": "execute_result"
    }
   ],
   "source": [
    "network.head()"
   ]
  },
  {
   "cell_type": "code",
   "execution_count": 99,
   "metadata": {
    "scrolled": true
   },
   "outputs": [],
   "source": [
    "node_1 = []\n",
    "node_2 = []\n",
    "weight = []\n",
    "for forum_id_1 in network['id'].unique():\n",
    "    for forum_id_2 in network['id'].unique():\n",
    "        node_1.append(forum_id_1)\n",
    "        node_2.append(forum_id_2)\n",
    "        if forum_id_1 != forum_id_2:\n",
    "            network_1 = network.loc[network['id']==forum_id_1].copy()\n",
    "            network_2 = network.loc[network['id']==forum_id_2].copy()\n",
    "            overlap = network_1.loc[network_1['user_url'].isin(network_2['user_url'])]\n",
    "            weight.append(overlap.shape[0])\n",
    "        elif forum_id_1 == forum_id_2:\n",
    "            weight.append(np.NaN)\n",
    "edge_df = pd.DataFrame({'node_1': node_1, 'node_2': node_2, 'weight': weight})\n",
    "edge_df = edge_df.sort_values(by=['node_1', 'node_2'])\n",
    "# edge_df.to_csv(path_network_data / \"forum_network.csv\", index=False)"
   ]
  },
  {
   "cell_type": "code",
   "execution_count": 103,
   "metadata": {},
   "outputs": [
    {
     "data": {
      "text/plain": [
       "node_1\n",
       "1     1.974403\n",
       "2     1.727485\n",
       "3     1.723871\n",
       "4     1.911186\n",
       "5     1.967077\n",
       "6     2.375693\n",
       "7     1.497249\n",
       "8     2.363957\n",
       "9     1.995552\n",
       "10    2.668727\n",
       "11    2.251976\n",
       "12    2.291438\n",
       "13    2.606271\n",
       "14    2.191592\n",
       "15    2.182509\n",
       "16    2.574425\n",
       "17    1.930675\n",
       "18    2.018153\n",
       "19    2.857823\n",
       "20    2.248239\n",
       "21    1.960415\n",
       "22    2.351112\n",
       "23    2.136589\n",
       "24         NaN\n",
       "25    2.264329\n",
       "26    2.106446\n",
       "Name: per_sn, dtype: float64"
      ]
     },
     "execution_count": 103,
     "metadata": {},
     "output_type": "execute_result"
    }
   ],
   "source": [
    "# What percent of posts on other forums are users from special needs?\n",
    "edges_matrix = edge_df.pivot(index='node_1', columns='node_2', values='weight')\n",
    "edges_matrix['total'] = edges_matrix.sum(axis=1)\n",
    "edges_matrix['per_sn'] = 100 * edges_matrix[24] / edges_matrix['total']\n",
    "edges_matrix['per_sn']"
   ]
  },
  {
   "cell_type": "code",
   "execution_count": 87,
   "metadata": {},
   "outputs": [
    {
     "data": {
      "image/png": "[encoded data removed]",
      "text/plain": [
       "<Figure size 792x648 with 2 Axes>"
      ]
     },
     "metadata": {
      "needs_background": "light"
     },
     "output_type": "display_data"
    }
   ],
   "source": [
    "import seaborn as sns\n",
    "\n",
    "fig, ax = plt.subplots(figsize=(11, 9))\n",
    "sns.heatmap(edges_df)\n",
    "plt.show()"
   ]
  },
  {
   "cell_type": "code",
   "execution_count": null,
   "metadata": {},
   "outputs": [],
   "source": []
  }
 ],
 "metadata": {
  "kernelspec": {
   "display_name": "Python 3",
   "language": "python",
   "name": "python3"
  },
  "language_info": {
   "codemirror_mode": {
    "name": "ipython",
    "version": 3
   },
   "file_extension": ".py",
   "mimetype": "text/x-python",
   "name": "python",
   "nbconvert_exporter": "python",
   "pygments_lexer": "ipython3",
   "version": "3.8.5"
  }
 },
 "nbformat": 4,
 "nbformat_minor": 4
}
