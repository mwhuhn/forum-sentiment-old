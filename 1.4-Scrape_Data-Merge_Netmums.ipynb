{
 "cells": [
  {
   "cell_type": "markdown",
   "metadata": {},
   "source": [
    "# Merge Forum Data\n",
    "This notebook merges the data from individual netmums databases into netmumsTables.db\n",
    "\n",
    "## Changes\n",
    "- 2021-02-08: Created\n",
    "- 2021-02-09: Added merge loop\n",
    "- 2021-02-26: Reformated loop to new data\n",
    "## TODO\n",
    "- "
   ]
  },
  {
   "cell_type": "markdown",
   "metadata": {},
   "source": [
    "## Imports"
   ]
  },
  {
   "cell_type": "code",
   "execution_count": 1,
   "metadata": {},
   "outputs": [],
   "source": [
    "import sqlite3\n",
    "from pathlib import Path\n",
    "from scraping import create_connection\n",
    "from netmums import set_up_merged_db\n",
    "import pandas as pd"
   ]
  },
  {
   "cell_type": "markdown",
   "metadata": {},
   "source": [
    "## File Locations"
   ]
  },
  {
   "cell_type": "code",
   "execution_count": 2,
   "metadata": {},
   "outputs": [],
   "source": [
    "p = Path.cwd()\n",
    "path_parent = p.parents[0]"
   ]
  },
  {
   "cell_type": "markdown",
   "metadata": {},
   "source": [
    "## Clean Data"
   ]
  },
  {
   "cell_type": "markdown",
   "metadata": {},
   "source": [
    "Remove duplicate posts and renumber post counts"
   ]
  },
  {
   "cell_type": "code",
   "execution_count": 3,
   "metadata": {},
   "outputs": [],
   "source": [
    "has_duplicate_posts_sql = \"\"\"\n",
    "    SELECT thread_id, post_id, user_url, date_created, COUNT(*)\n",
    "    FROM posts\n",
    "    GROUP BY thread_id, post_id, user_url, date_created\n",
    "    HAVING COUNT(*)>1;\n",
    "\"\"\""
   ]
  },
  {
   "cell_type": "code",
   "execution_count": 4,
   "metadata": {},
   "outputs": [],
   "source": [
    "drop_duplicate_posts_sql = \"\"\"\n",
    "    DELETE FROM posts\n",
    "    WHERE id NOT IN (\n",
    "        SELECT min(id)\n",
    "        FROM posts\n",
    "        GROUP BY thread_id, post_id, user_url, date_created\n",
    "    );\n",
    "\"\"\""
   ]
  },
  {
   "cell_type": "code",
   "execution_count": 5,
   "metadata": {},
   "outputs": [],
   "source": [
    "select_post_threads_sql = \"\"\"\n",
    "    SELECT id, post_count\n",
    "    FROM posts\n",
    "    WHERE thread_id={}\n",
    "\"\"\""
   ]
  },
  {
   "cell_type": "code",
   "execution_count": 6,
   "metadata": {},
   "outputs": [],
   "source": [
    "update_post_count_sql = \"\"\"\n",
    "    UPDATE posts\n",
    "    SET post_count={0}\n",
    "    WHERE id={1} \n",
    "\"\"\""
   ]
  },
  {
   "cell_type": "code",
   "execution_count": 7,
   "metadata": {},
   "outputs": [],
   "source": [
    "for i in range(1, 6):\n",
    "    db = \"netmums0{}.db\".format(i)\n",
    "    path_db = str(path_parent / \"database\" / db)\n",
    "    conn = create_connection(path_db)\n",
    "    cur = conn.cursor()\n",
    "    has_duplicate_posts = pd.read_sql(has_duplicate_posts_sql, conn)\n",
    "    if not has_duplicate_posts.empty:\n",
    "        unique_threads = list(has_duplicate_posts.thread_id.unique())\n",
    "        cur.execute(drop_duplicate_posts_sql)\n",
    "        for thread_id in unique_threads:\n",
    "            id_df = pd.read_sql(select_post_threads_sql.format(thread_id), conn)\n",
    "            id_df['post_count'] = id_df['post_count'].astype(int)\n",
    "            id_df.sort_values(by=['post_count'], inplace=True)\n",
    "            for i, r in id_df.iterrows():\n",
    "                cur.execute(update_post_count_sql.format(i + 1, r['id']))\n",
    "        conn.commit()\n",
    "    conn.close()"
   ]
  },
  {
   "cell_type": "markdown",
   "metadata": {},
   "source": [
    "Remove duplicate users, quotes, and links"
   ]
  },
  {
   "cell_type": "code",
   "execution_count": 8,
   "metadata": {},
   "outputs": [],
   "source": [
    "duplicates_sql = '''\n",
    "    DELETE FROM users\n",
    "    WHERE id NOT IN (\n",
    "        SELECT MIN(id)\n",
    "        FROM users\n",
    "        GROUP BY name, user_url\n",
    "    );\n",
    "    DELETE FROM quotes\n",
    "    WHERE id NOT IN (\n",
    "        SELECT MIN(id)\n",
    "        FROM quotes\n",
    "        GROUP BY thread_id, quoting_id, quoted_id, quoted_user, quoted_text, citation_n\n",
    "    );\n",
    "    DELETE FROM links\n",
    "    WHERE id NOT IN (\n",
    "        SELECT MIN(id)\n",
    "        FROM links\n",
    "        GROUP BY thread_id, post_id, link_count, link_text, link_url\n",
    "    );\n",
    "'''"
   ]
  },
  {
   "cell_type": "code",
   "execution_count": 9,
   "metadata": {},
   "outputs": [],
   "source": [
    "for i in range(1, 6):\n",
    "    db = \"netmums0{}.db\".format(i)\n",
    "    path_db = str(path_parent / \"database\" / db)\n",
    "    conn = create_connection(path_db)\n",
    "    cur = conn.cursor()\n",
    "    cur.executescript(duplicates_sql)\n",
    "    conn.commit()\n",
    "    conn.close()"
   ]
  },
  {
   "cell_type": "markdown",
   "metadata": {},
   "source": [
    "Match quotes to post_id"
   ]
  },
  {
   "cell_type": "markdown",
   "metadata": {},
   "source": [
    "1. select quotes with no quoted_id"
   ]
  },
  {
   "cell_type": "markdown",
   "metadata": {},
   "source": [
    "Problem: post_ids are not unique :(((((((\n",
    "Solution: match links and quotes to correct post\n",
    "- quotes by text\n",
    "- links by order"
   ]
  },
  {
   "cell_type": "code",
   "execution_count": 10,
   "metadata": {},
   "outputs": [],
   "source": [
    "quotes_sql = '''\n",
    "    SELECT *\n",
    "    FROM quotes\n",
    "    WHERE quoted_id=\"\"\n",
    "'''"
   ]
  },
  {
   "cell_type": "code",
   "execution_count": 11,
   "metadata": {
    "scrolled": true
   },
   "outputs": [],
   "source": [
    "db = \"netmums01 (copy).db\"\n",
    "path_db = str(path_parent / \"database\" / db)\n",
    "conn = create_connection(path_db)\n",
    "quotes = pd.read_sql(quotes_sql, conn)\n",
    "# no_quoted['dup'] = no_quoted.post_id_old.duplicated(keep=False)"
   ]
  },
  {
   "cell_type": "code",
   "execution_count": null,
   "metadata": {},
   "outputs": [],
   "source": [
    "quotes.head()"
   ]
  },
  {
   "cell_type": "code",
   "execution_count": 28,
   "metadata": {},
   "outputs": [],
   "source": [
    "get_posts = '''\n",
    "    SELECT\n",
    "        p.thread_id AS thread_id,\n",
    "        p.post_count AS post_count,\n",
    "        p.body AS body\n",
    "    FROM posts AS p\n",
    "    LEFT JOIN users AS u\n",
    "        ON p.user_url = u.user_url\n",
    "    WHERE\n",
    "        p.thread_id={0}\n",
    "        AND u.name=\"{1}\"\n",
    "        AND p.post_count<{2};\n",
    "'''"
   ]
  },
  {
   "cell_type": "code",
   "execution_count": 38,
   "metadata": {},
   "outputs": [],
   "source": [
    "get_posts_anon = '''\n",
    "    SELECT\n",
    "        thread_id,\n",
    "        post_count,\n",
    "        body\n",
    "    FROM posts\n",
    "    WHERE\n",
    "        thread_id={0}\n",
    "        AND user_url=\"Anonymous\"\n",
    "        AND post_count<{1};\n",
    "'''"
   ]
  },
  {
   "cell_type": "code",
   "execution_count": 26,
   "metadata": {
    "scrolled": true
   },
   "outputs": [
    {
     "data": {
      "text/plain": [
       "186"
      ]
     },
     "execution_count": 26,
     "metadata": {},
     "output_type": "execute_result"
    }
   ],
   "source": [
    "quotes.iloc[3][\"post_count\"]"
   ]
  },
  {
   "cell_type": "code",
   "execution_count": 41,
   "metadata": {},
   "outputs": [
    {
     "name": "stdout",
     "output_type": "stream",
     "text": [
      "row: 20\n",
      "False    72\n",
      "True      1\n",
      "Name: body, dtype: int64\n",
      "row: 21\n",
      "False    99\n",
      "True      1\n",
      "Name: body, dtype: int64\n",
      "row: 22\n",
      "False    14\n",
      "True      1\n",
      "Name: body, dtype: int64\n",
      "row: 23\n",
      "False    21\n",
      "True      1\n",
      "Name: body, dtype: int64\n",
      "row: 24\n",
      "False    56\n",
      "True      1\n",
      "Name: body, dtype: int64\n",
      "row: 27\n",
      "False    59\n",
      "True      1\n",
      "Name: body, dtype: int64\n",
      "row: 28\n",
      "True     1\n",
      "False    1\n",
      "Name: body, dtype: int64\n",
      "row: 29\n",
      "False    63\n",
      "True      1\n",
      "Name: body, dtype: int64\n",
      "row: 30\n",
      "False    2\n",
      "True     1\n",
      "Name: body, dtype: int64\n",
      "row: 32\n",
      "False    75\n",
      "True      1\n",
      "Name: body, dtype: int64\n",
      "row: 33\n",
      "False    76\n",
      "True      1\n",
      "Name: body, dtype: int64\n",
      "row: 34\n",
      "False    80\n",
      "True      1\n",
      "Name: body, dtype: int64\n"
     ]
    }
   ],
   "source": [
    "import re\n",
    "for i in range(100):\n",
    "    thread_id = quotes.iloc[i][\"thread_id\"]\n",
    "    name = quotes.iloc[i][\"quoted_user\"]\n",
    "    post_count = quotes.iloc[i][\"post_count\"]\n",
    "    quoted_text = quotes.iloc[i][\"quoted_text\"]\n",
    "    if name == \"Anonymous\":\n",
    "        posts = pd.read_sql(get_posts_anon.format(thread_id, post_count), conn)\n",
    "    else:\n",
    "        posts = pd.read_sql(get_posts.format(thread_id, name, post_count), conn)\n",
    "    if len(posts.index) == 1:\n",
    "        # yay, found correct post\n",
    "        pass\n",
    "    else:\n",
    "        # match text\n",
    "        print(\"row:\", i)\n",
    "        matches = posts['body'].str.contains(quoted_text, flags=re.IGNORECASE, regex=False)\n",
    "        print(matches.value_counts())"
   ]
  },
  {
   "cell_type": "code",
   "execution_count": null,
   "metadata": {},
   "outputs": [],
   "source": [
    "# no_quoted_sql = \"\"\"\n",
    "#     SELECT quoting_id, quoted_user, quoted_text\n",
    "#     FROM quotes\n",
    "#     WHERE quoted_id=\"\"\n",
    "# \"\"\""
   ]
  },
  {
   "cell_type": "code",
   "execution_count": null,
   "metadata": {},
   "outputs": [],
   "source": [
    "no_quoted_sql = \"\"\"\n",
    "    SELECT\n",
    "        p.thread_id as thread_id,\n",
    "        p.id as post_id,\n",
    "        p.post_id as post_id_old,\n",
    "        q.quoted_user as quoted_user,\n",
    "        q.quoted_text as quoted_text\n",
    "    FROM quotes as q\n",
    "    LEFT JOIN posts as p\n",
    "    ON q.quoting_id = p.post_id\n",
    "    WHERE q.quoted_id=\"\"\n",
    "\"\"\""
   ]
  },
  {
   "cell_type": "code",
   "execution_count": null,
   "metadata": {
    "scrolled": true
   },
   "outputs": [],
   "source": [
    "count = 0\n",
    "grouped = no_quoted.groupby('post_id_old')\n",
    "for n, g in grouped:\n",
    "    if count > 10:\n",
    "        break\n",
    "    if g.shape[0] > 1:\n",
    "        possible_threads = g.thread_id.unique()\n",
    "        if len(threads) > 1:\n",
    "            count += 1\n",
    "            print()\n",
    "            print(g)"
   ]
  },
  {
   "cell_type": "code",
   "execution_count": null,
   "metadata": {},
   "outputs": [],
   "source": [
    "no_quoted.dup.value_counts()"
   ]
  },
  {
   "cell_type": "code",
   "execution_count": null,
   "metadata": {
    "scrolled": true
   },
   "outputs": [],
   "source": [
    "count = 0\n",
    "for i, r in no_quoted.iterrows():\n",
    "    if count > 10:\n",
    "        break\n",
    "    if r[\"dup\"]:\n",
    "        count += 1\n",
    "        potential_threads = no_quoted.loc())"
   ]
  },
  {
   "cell_type": "code",
   "execution_count": null,
   "metadata": {},
   "outputs": [],
   "source": [
    "links_sql = \"\"\"\n",
    "    SELECT\n",
    "        post_id,\n",
    "        link_url\n",
    "    FROM links\n",
    "    LEFT JOIN posts as p\n",
    "    ON l.post_id = p.post_id\n",
    "    WHERE p.body LIKE '%::link_%';\n",
    "\"\"\""
   ]
  },
  {
   "cell_type": "code",
   "execution_count": null,
   "metadata": {},
   "outputs": [],
   "source": [
    "links_sql = \"\"\"\n",
    "    SELECT\n",
    "        id,\n",
    "        post_id,\n",
    "        link_count,\n",
    "        link_url\n",
    "    FROM links;\n",
    "\"\"\""
   ]
  },
  {
   "cell_type": "code",
   "execution_count": null,
   "metadata": {},
   "outputs": [],
   "source": [
    "posts_with_links_sql = \"\"\"\n",
    "    SELECT\n",
    "        id,\n",
    "        thread_id,\n",
    "        post_id,\n",
    "        body\n",
    "    FROM posts\n",
    "    WHERE body LIKE '%::link_%';\n",
    "\"\"\""
   ]
  },
  {
   "cell_type": "code",
   "execution_count": null,
   "metadata": {},
   "outputs": [],
   "source": [
    "db = \"netmums01 (copy).db\".format(i)\n",
    "path_db = str(path_parent / \"database\" / db)\n",
    "conn = create_connection(path_db)\n",
    "links = pd.read_sql(links_sql, conn)\n",
    "posts = pd.read_sql(posts_with_links_sql, conn)"
   ]
  },
  {
   "cell_type": "code",
   "execution_count": null,
   "metadata": {},
   "outputs": [],
   "source": [
    "posts[\"link_counts\"] = posts.body.str.count(\"::link_[0-9]*::\")"
   ]
  },
  {
   "cell_type": "code",
   "execution_count": null,
   "metadata": {},
   "outputs": [],
   "source": [
    "posts[\"link_counts\"].value_counts()"
   ]
  },
  {
   "cell_type": "code",
   "execution_count": null,
   "metadata": {},
   "outputs": [],
   "source": [
    "unique_ids = list(posts.post_id.unique())"
   ]
  },
  {
   "cell_type": "code",
   "execution_count": null,
   "metadata": {},
   "outputs": [],
   "source": [
    "for uid in unique_ids:\n",
    "    size_links = "
   ]
  },
  {
   "cell_type": "markdown",
   "metadata": {},
   "source": [
    "## Merge Databases"
   ]
  },
  {
   "cell_type": "code",
   "execution_count": null,
   "metadata": {},
   "outputs": [],
   "source": [
    "db = \"netmums-merged.db\"\n",
    "path_db = str(path_parent / \"database\" / db)\n",
    "conn = create_connection(path_db)\n",
    "cur = conn.cursor()\n",
    "loop_sql = '''\n",
    "    ATTACH DATABASE \"{0}\" AS db{1};\n",
    "    INSERT INTO main.users (name, data_user_id, url) SELECT name, data_user_id, url FROM db{1}.users;\n",
    "    INSERT INTO main.quotes (quoting_id, quoted_id) SELECT quoting_id, quoted_id FROM db{1}.quotes;\n",
    "    INSERT INTO main.posts (thread_id, post_id, post_count, data_user_id, date_created, date_recorded, body) SELECT thread_id, post_id, post_count, data_user_id, date_created, date_recorded, body FROM db{1}.posts;\n",
    "    DETACH DATABASE db{1};\n",
    "'''"
   ]
  },
  {
   "cell_type": "code",
   "execution_count": null,
   "metadata": {},
   "outputs": [],
   "source": [
    "duplicates_sql = '''\n",
    "    DELETE FROM users\n",
    "    WHERE id NOT IN (\n",
    "        SELECT MIN(id)\n",
    "        FROM users\n",
    "        GROUP BY name, data_user_id, url\n",
    "    );\n",
    "    DELETE FROM quotes\n",
    "    WHERE id NOT IN (\n",
    "        SELECT MIN(id)\n",
    "        FROM quotes\n",
    "        GROUP BY quoting_id, quoted_id\n",
    "    );\n",
    "'''"
   ]
  },
  {
   "cell_type": "code",
   "execution_count": null,
   "metadata": {},
   "outputs": [],
   "source": [
    "for i in range(1, 11):\n",
    "    n = pad(i)\n",
    "    fn = \"netmumsTables-{}.db\".format(n)\n",
    "    path_add = str(path_parent / \"database\" / fn)\n",
    "    cur.executescript(loop_sql.format(path_add, n))"
   ]
  },
  {
   "cell_type": "code",
   "execution_count": null,
   "metadata": {},
   "outputs": [],
   "source": [
    "cur.executescript(duplicates_sql)"
   ]
  },
  {
   "cell_type": "code",
   "execution_count": null,
   "metadata": {},
   "outputs": [],
   "source": [
    "conn.commit()"
   ]
  },
  {
   "cell_type": "code",
   "execution_count": null,
   "metadata": {},
   "outputs": [],
   "source": [
    "conn.close()"
   ]
  }
 ],
 "metadata": {
  "kernelspec": {
   "display_name": "Python 3",
   "language": "python",
   "name": "python3"
  },
  "language_info": {
   "codemirror_mode": {
    "name": "ipython",
    "version": 3
   },
   "file_extension": ".py",
   "mimetype": "text/x-python",
   "name": "python",
   "nbconvert_exporter": "python",
   "pygments_lexer": "ipython3",
   "version": "3.8.5"
  }
 },
 "nbformat": 4,
 "nbformat_minor": 4
}
