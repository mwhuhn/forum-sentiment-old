{
 "cells": [
  {
   "cell_type": "markdown",
   "metadata": {},
   "source": [
    "# Merge Forum Data\n",
    "This notebook merges the data from individual netmums databases into netmumsTables.db\n",
    "\n",
    "## TODO\n"
   ]
  },
  {
   "cell_type": "markdown",
   "metadata": {},
   "source": [
    "## Imports"
   ]
  },
  {
   "cell_type": "code",
   "execution_count": 1,
   "metadata": {},
   "outputs": [],
   "source": [
    "import sqlite3\n",
    "from pathlib import Path\n",
    "from scraping import create_connection\n",
    "from netmums import set_up_merged_db\n",
    "import pandas as pd"
   ]
  },
  {
   "cell_type": "markdown",
   "metadata": {},
   "source": [
    "## File Locations"
   ]
  },
  {
   "cell_type": "code",
   "execution_count": 2,
   "metadata": {},
   "outputs": [],
   "source": [
    "p = Path.cwd()\n",
    "path_parent = p.parents[0]"
   ]
  },
  {
   "cell_type": "markdown",
   "metadata": {},
   "source": [
    "## Clean Data"
   ]
  },
  {
   "cell_type": "markdown",
   "metadata": {},
   "source": [
    "### Remove duplicate posts and renumber post counts"
   ]
  },
  {
   "cell_type": "code",
   "execution_count": null,
   "metadata": {},
   "outputs": [],
   "source": [
    "has_duplicate_posts_sql = \"\"\"\n",
    "    SELECT thread_id, post_id, user_url, date_created, COUNT(*)\n",
    "    FROM posts\n",
    "    GROUP BY thread_id, post_id, user_url, date_created\n",
    "    HAVING COUNT(*)>1;\n",
    "\"\"\""
   ]
  },
  {
   "cell_type": "code",
   "execution_count": null,
   "metadata": {},
   "outputs": [],
   "source": [
    "drop_duplicate_posts_sql = \"\"\"\n",
    "    DELETE FROM posts\n",
    "    WHERE id NOT IN (\n",
    "        SELECT min(id)\n",
    "        FROM posts\n",
    "        GROUP BY thread_id, post_id, user_url, date_created\n",
    "    );\n",
    "\"\"\""
   ]
  },
  {
   "cell_type": "code",
   "execution_count": null,
   "metadata": {},
   "outputs": [],
   "source": [
    "select_post_threads_sql = \"\"\"\n",
    "    SELECT id, post_count\n",
    "    FROM posts\n",
    "    WHERE thread_id={}\n",
    "\"\"\""
   ]
  },
  {
   "cell_type": "code",
   "execution_count": null,
   "metadata": {},
   "outputs": [],
   "source": [
    "update_post_count_sql = \"\"\"\n",
    "    UPDATE posts\n",
    "    SET post_count={0}\n",
    "    WHERE id={1} \n",
    "\"\"\""
   ]
  },
  {
   "cell_type": "code",
   "execution_count": null,
   "metadata": {},
   "outputs": [],
   "source": [
    "# Loop through the databases and renumber post counts\n",
    "for i in range(1, 6):\n",
    "    db = \"netmums0{}.db\".format(i)\n",
    "    path_db = str(path_parent / \"database\" / db)\n",
    "    conn = create_connection(path_db)\n",
    "    cur = conn.cursor()\n",
    "    has_duplicate_posts = pd.read_sql(has_duplicate_posts_sql, conn)\n",
    "    if not has_duplicate_posts.empty:\n",
    "        unique_threads = list(has_duplicate_posts.thread_id.unique())\n",
    "        cur.execute(drop_duplicate_posts_sql)\n",
    "        for thread_id in unique_threads:\n",
    "            id_df = pd.read_sql(select_post_threads_sql.format(thread_id), conn)\n",
    "            id_df['post_count'] = id_df['post_count'].astype(int)\n",
    "            id_df.sort_values(by=['post_count'], inplace=True)\n",
    "            for i, r in id_df.iterrows():\n",
    "                cur.execute(update_post_count_sql.format(i + 1, r['id']))\n",
    "        conn.commit()\n",
    "    conn.close()"
   ]
  },
  {
   "cell_type": "markdown",
   "metadata": {},
   "source": [
    "Remove duplicate users, quotes, and links"
   ]
  },
  {
   "cell_type": "code",
   "execution_count": null,
   "metadata": {},
   "outputs": [],
   "source": [
    "duplicates_sql = '''\n",
    "    DELETE FROM users\n",
    "    WHERE id NOT IN (\n",
    "        SELECT MIN(id)\n",
    "        FROM users\n",
    "        GROUP BY name, user_url\n",
    "    );\n",
    "    DELETE FROM quotes\n",
    "    WHERE id NOT IN (\n",
    "        SELECT MIN(id)\n",
    "        FROM quotes\n",
    "        GROUP BY thread_id, quoting_id, quoted_id, quoted_user, quoted_text, citation_n\n",
    "    );\n",
    "    DELETE FROM links\n",
    "    WHERE id NOT IN (\n",
    "        SELECT MIN(id)\n",
    "        FROM links\n",
    "        GROUP BY thread_id, post_id, link_count, link_text, link_url\n",
    "    );\n",
    "'''"
   ]
  },
  {
   "cell_type": "code",
   "execution_count": null,
   "metadata": {},
   "outputs": [],
   "source": [
    "for i in range(1, 6):\n",
    "    db = \"netmums0{}.db\".format(i)\n",
    "    path_db = str(path_parent / \"database\" / db)\n",
    "    conn = create_connection(path_db)\n",
    "    cur = conn.cursor()\n",
    "    cur.executescript(duplicates_sql)\n",
    "    conn.commit()\n",
    "    conn.close()"
   ]
  },
  {
   "cell_type": "markdown",
   "metadata": {},
   "source": [
    "## Merge Databases"
   ]
  },
  {
   "cell_type": "markdown",
   "metadata": {},
   "source": [
    "### Set up SQL\n",
    "Inserts individual databased tables into merged database"
   ]
  },
  {
   "cell_type": "code",
   "execution_count": 8,
   "metadata": {},
   "outputs": [],
   "source": [
    "# Fix merged database tables to have correct columns\n",
    "fix_tables_sql = \"\"\"\n",
    "DROP TABLE IF EXISTS users; \n",
    "DROP TABLE IF EXISTS posts; \n",
    "DROP TABLE IF EXISTS quotes; \n",
    "DROP TABLE IF EXISTS links; \n",
    "CREATE TABLE IF NOT EXISTS users(\n",
    "\tid INTEGER NOT NULL PRIMARY KEY AUTOINCREMENT UNIQUE,\n",
    "\tname TEXT,\n",
    "\tuser_url\n",
    ");\n",
    "CREATE TABLE IF NOT EXISTS posts(\n",
    "\tid INTEGER NOT NULL PRIMARY KEY AUTOINCREMENT UNIQUE,\n",
    "\tthread_id INTEGER,\n",
    "\tpost_count INTEGER,\n",
    "\tpost_id TEXT,\n",
    "\tuser_url TEXT,\n",
    "\tdate_created TEXT,\n",
    "\tdate_recorded TEXT,\n",
    "\tbody TEXT,\n",
    "\tversion INTEGER\n",
    ");\n",
    "CREATE TABLE IF NOT EXISTS links(\n",
    "\tid INTEGER NOT NULL PRIMARY KEY AUTOINCREMENT UNIQUE,\n",
    "\tthread_id TEXT,\n",
    "\tpost_count INTEGER,\n",
    "\tpost_id TEXT,\n",
    "\tlink_count INTEGER,\n",
    "\tlink_text TEXT,\n",
    "\tlink_url TEXT\n",
    ");\n",
    "\"\"\""
   ]
  },
  {
   "cell_type": "code",
   "execution_count": 9,
   "metadata": {},
   "outputs": [],
   "source": [
    "db = \"netmums-merged.db\"\n",
    "path_db = str(path_parent / \"database\" / db)\n",
    "conn = create_connection(path_db)\n",
    "cur = conn.cursor()\n",
    "loop_sql = '''\n",
    "    ATTACH DATABASE \"{0}\" AS db{1};\n",
    "    INSERT INTO main.users (name, user_url) SELECT name, user_url FROM db{1}.users;\n",
    "    INSERT INTO main.links (thread_id, post_count, post_id, link_count, link_text, link_url) SELECT thread_id, post_count, post_id, link_count, link_text, link_url FROM db{1}.links;\n",
    "    INSERT INTO main.posts (thread_id, post_count, post_id, user_url, date_created, date_recorded, body, version) SELECT thread_id, post_count, post_id, user_url, date_created, date_recorded, body, version FROM db{1}.posts;\n",
    "    DETACH DATABASE db{1};\n",
    "'''\n",
    "duplicates_sql = '''\n",
    "    DELETE FROM users\n",
    "    WHERE id NOT IN (\n",
    "        SELECT MIN(id)\n",
    "        FROM users\n",
    "        GROUP BY name, user_url\n",
    "    );\n",
    "'''"
   ]
  },
  {
   "cell_type": "code",
   "execution_count": 10,
   "metadata": {},
   "outputs": [
    {
     "data": {
      "text/plain": [
       "<sqlite3.Cursor at 0x7eff90a26880>"
      ]
     },
     "execution_count": 10,
     "metadata": {},
     "output_type": "execute_result"
    }
   ],
   "source": [
    "cur.executescript(fix_tables_sql)"
   ]
  },
  {
   "cell_type": "markdown",
   "metadata": {},
   "source": [
    "### Loop Databases"
   ]
  },
  {
   "cell_type": "code",
   "execution_count": 11,
   "metadata": {},
   "outputs": [],
   "source": [
    "for i in range(1, 6):\n",
    "    fn = \"netmums0{}.db\".format(i)\n",
    "    path_add = str(path_parent / \"database\" / fn)\n",
    "    cur.executescript(loop_sql.format(path_add, i))"
   ]
  },
  {
   "cell_type": "markdown",
   "metadata": {},
   "source": [
    "### Remove duplicate users"
   ]
  },
  {
   "cell_type": "code",
   "execution_count": 12,
   "metadata": {},
   "outputs": [
    {
     "data": {
      "text/plain": [
       "<sqlite3.Cursor at 0x7eff90a26880>"
      ]
     },
     "execution_count": 12,
     "metadata": {},
     "output_type": "execute_result"
    }
   ],
   "source": [
    "cur.executescript(duplicates_sql)"
   ]
  },
  {
   "cell_type": "markdown",
   "metadata": {},
   "source": [
    "### Close Conn"
   ]
  },
  {
   "cell_type": "code",
   "execution_count": 13,
   "metadata": {},
   "outputs": [],
   "source": [
    "conn.commit()\n",
    "conn.close()"
   ]
  }
 ],
 "metadata": {
  "kernelspec": {
   "display_name": "Python 3",
   "language": "python",
   "name": "python3"
  },
  "language_info": {
   "codemirror_mode": {
    "name": "ipython",
    "version": 3
   },
   "file_extension": ".py",
   "mimetype": "text/x-python",
   "name": "python",
   "nbconvert_exporter": "python",
   "pygments_lexer": "ipython3",
   "version": "3.8.5"
  }
 },
 "nbformat": 4,
 "nbformat_minor": 4
}
