{
 "cells": [
  {
   "cell_type": "markdown",
   "metadata": {},
   "source": [
    "# Analyze Sentiment for Forum Data\n",
    "This notebook loads the sentiment data and explores results"
   ]
  },
  {
   "cell_type": "markdown",
   "metadata": {},
   "source": [
    "## Imports"
   ]
  },
  {
   "cell_type": "code",
   "execution_count": 1,
   "metadata": {},
   "outputs": [],
   "source": [
    "import sqlite3\n",
    "import pandas as pd\n",
    "import numpy as np\n",
    "from vaderSentiment.vaderSentiment import SentimentIntensityAnalyzer\n",
    "from scipy.stats import ttest_ind, kde\n",
    "from datetime import datetime\n",
    "from pathlib import Path\n",
    "import matplotlib.pyplot as plt\n",
    "import math\n",
    "from statsmodels.formula.api  import ols\n",
    "from scraping import create_connection"
   ]
  },
  {
   "cell_type": "markdown",
   "metadata": {},
   "source": [
    "## Functions"
   ]
  },
  {
   "cell_type": "code",
   "execution_count": null,
   "metadata": {},
   "outputs": [],
   "source": [
    "def ttest_sentiment(df, v):\n",
    "    \"\"\" run a t-test on the sentiment scores for\n",
    "        before and during the pandemic\n",
    "    :param df: data frame\n",
    "    :param v: the variable name to t-test on\n",
    "    :return: nothing, prints ttest results\n",
    "    \"\"\"\n",
    "    group_before = df.where(df['before'])[v].dropna()\n",
    "    group_during = df.where(df['during'])[v].dropna()\n",
    "    result = ttest_ind(group_before, group_during, equal_var=False, nan_policy=\"omit\")\n",
    "    print('\\n')\n",
    "    l = len(v)\n",
    "    print(' '*(l - 8) + 'variable    before    during statistic    pvalue')\n",
    "    print(v + '  {:1.6f}  {:1.6f} {:+1.6f}  {:1.6f}'.format(group_before.mean(), group_during.mean(), result.statistic, result.pvalue))"
   ]
  },
  {
   "cell_type": "code",
   "execution_count": 17,
   "metadata": {},
   "outputs": [],
   "source": [
    "def create_dates(df):\n",
    "    \"\"\" create date variables\n",
    "    :param df: data frame\n",
    "    :return: formatted data frame\n",
    "    \"\"\"\n",
    "    df['date_created'] = pd.to_datetime(df['date_created'])\n",
    "    df['before'] = df['date_created'] <= pd.Timestamp(2020,2,28)\n",
    "    df['during'] = df['date_created'] >= pd.Timestamp(2020,4,1)\n",
    "    df['march'] = ~df['before'] & ~df['during']\n",
    "    df.loc[df['before'], 'period'] = 'before'\n",
    "    df.loc[df['march'], 'period'] = 'march'\n",
    "    df.loc[df['during'], 'period'] = 'during'\n",
    "    df['weekday'] = df['date_created'].dt.day_name()\n",
    "    df['week_n'] = df['date_created'].dt.isocalendar().week\n",
    "    df['weekday_n'] = df['date_created'].dt.day\n",
    "    df['month'] = df['date_created'].dt.month_name()\n",
    "    df['month_n'] = df['date_created'].dt.month\n",
    "#     df['ymd'] = df['date_created'].dt.to_period('D')\n",
    "    return df"
   ]
  },
  {
   "cell_type": "code",
   "execution_count": null,
   "metadata": {},
   "outputs": [],
   "source": [
    "def compare_parent_child(df):\n",
    "    parents = df[df[\"is_parent\"]]\n",
    "    parents = parents[[\"family_id\",\"neg_sentiment\",\"pos_sentiment\",\"compound_sentiment\"]]\n",
    "    children = df[~df[\"is_parent\"]]\n",
    "    children = children[[\"family_id\",\"neg_sentiment\",\"pos_sentiment\",\"compound_sentiment\"]]\n",
    "    children_ave = children.groupby(\"family_id\", as_index=False).mean()\n",
    "    compare = pd.merge(left=parents, right=children_ave, on=\"family_id\", how=\"inner\", suffixes=['_p','_c'])\n",
    "    compare['pos_diff'] = compare['pos_sentiment_p'] - compare['pos_sentiment_c']\n",
    "    compare['neg_diff'] = compare['neg_sentiment_p'] - compare['neg_sentiment_c']\n",
    "    compare['compound_diff'] = compare['compound_sentiment_p'] - compare['compound_sentiment_c']\n",
    "    return compare"
   ]
  },
  {
   "cell_type": "code",
   "execution_count": null,
   "metadata": {},
   "outputs": [],
   "source": [
    "def season_sentiment(df, name, var):\n",
    "    grouping_ave = df.groupby([var])['compound_sentiment'].mean()\n",
    "    path_sen = path_parent / \"clean_data\" / \"sentiment_{0}_{1}.csv\".format(name, var)\n",
    "    path_sen = str(path_sen)\n",
    "    grouping_ave.to_csv(path_sen)\n",
    "    print(grouping_ave)"
   ]
  },
  {
   "cell_type": "code",
   "execution_count": null,
   "metadata": {},
   "outputs": [],
   "source": [
    "def season_freq(df, name, var):\n",
    "    grouping_freq = df.groupby(var)[var].count()\n",
    "    path_freq = path_parent / \"clean_data\" / \"frequency_{0}_{1}.csv\".format(name, var)\n",
    "    path_freq = str(path_freq)\n",
    "    grouping_freq.to_csv(path_freq)\n",
    "    print(grouping_freq)"
   ]
  },
  {
   "cell_type": "code",
   "execution_count": 36,
   "metadata": {},
   "outputs": [],
   "source": [
    "def ave_sent_day(df):\n",
    "    daily_ave = df[['date_created','com_sentiment']].copy()\n",
    "    daily_ave = daily_ave.set_index('date_created')\n",
    "    daily_ave = daily_ave.resample('D').mean().dropna(how='all')\n",
    "    daily_ave['period'] = \"March\"\n",
    "    daily_ave.loc[daily_ave.index <= pd.Timestamp(2020,2,28), 'period'] = \"Before\"\n",
    "    daily_ave.loc[daily_ave.index >= pd.Timestamp(2020,4,1), 'period'] = \"During\"\n",
    "    return daily_ave"
   ]
  },
  {
   "cell_type": "code",
   "execution_count": 40,
   "metadata": {},
   "outputs": [],
   "source": [
    "def daily_freq(df):\n",
    "    freq = df[['date_created', 'com_sentiment']].copy()\n",
    "    freq = freq.set_index('date_created')\n",
    "    freq = freq.resample('D').size().dropna(how='all').to_frame()\n",
    "    freq.columns = ['daily_count']\n",
    "    freq['period'] = \"March\"\n",
    "    freq.loc[freq.index <= pd.Timestamp(2020,2,28), 'period'] = \"Before\"\n",
    "    freq.loc[freq.index >= pd.Timestamp(2020,4,1), 'period'] = \"During\"\n",
    "    return freq"
   ]
  },
  {
   "cell_type": "code",
   "execution_count": 18,
   "metadata": {},
   "outputs": [],
   "source": [
    "def filter_dates(df, start, end):\n",
    "    mask = (df['date_created'] >= start) & (df['date_created'] < end)\n",
    "    return df.loc[mask]"
   ]
  },
  {
   "cell_type": "markdown",
   "metadata": {},
   "source": [
    "## File Locations"
   ]
  },
  {
   "cell_type": "code",
   "execution_count": 2,
   "metadata": {},
   "outputs": [],
   "source": [
    "p = Path.cwd()\n",
    "path_parent = p.parents[0]"
   ]
  },
  {
   "cell_type": "code",
   "execution_count": 3,
   "metadata": {},
   "outputs": [],
   "source": [
    "path_db = path_parent / \"database\" / \"netmums-merged.db\"\n",
    "path_db = str(path_db)\n",
    "# path_counts = path_parent / \"clean_data\" / \"subforum-counts.csv\"\n",
    "# path_counts = str(path_counts)\n",
    "# path_sn = path_parent / \"clean_data\" / \"sn_sentiment.csv\"\n",
    "# path_td = path_parent / \"clean_data\" / \"td_sentiment.csv\""
   ]
  },
  {
   "cell_type": "markdown",
   "metadata": {},
   "source": [
    "## Load Data"
   ]
  },
  {
   "cell_type": "code",
   "execution_count": 4,
   "metadata": {},
   "outputs": [],
   "source": [
    "conn = create_connection(path_db)"
   ]
  },
  {
   "cell_type": "markdown",
   "metadata": {},
   "source": [
    "Counts of posts in each subforum"
   ]
  },
  {
   "cell_type": "code",
   "execution_count": 5,
   "metadata": {},
   "outputs": [],
   "source": [
    "counts_sql = '''\n",
    "    SELECT f.id, COUNT(p.id), MIN(date_created), MAX(date_created)\n",
    "    FROM posts AS p\n",
    "    LEFT JOIN threads AS t\n",
    "    ON t.id=p.thread_id\n",
    "    LEFT JOIN subforums AS s\n",
    "    ON s.id=t.subforum_id\n",
    "    LEFT JOIN forums AS f\n",
    "    ON f.id=s.forum_id\n",
    "    GROUP BY f.id\n",
    "'''\n",
    "counts = pd.read_sql_query(counts_sql, conn)"
   ]
  },
  {
   "cell_type": "code",
   "execution_count": 6,
   "metadata": {},
   "outputs": [
    {
     "data": {
      "text/html": [
       "<div>\n",
       "<style scoped>\n",
       "    .dataframe tbody tr th:only-of-type {\n",
       "        vertical-align: middle;\n",
       "    }\n",
       "\n",
       "    .dataframe tbody tr th {\n",
       "        vertical-align: top;\n",
       "    }\n",
       "\n",
       "    .dataframe thead th {\n",
       "        text-align: right;\n",
       "    }\n",
       "</style>\n",
       "<table border=\"1\" class=\"dataframe\">\n",
       "  <thead>\n",
       "    <tr style=\"text-align: right;\">\n",
       "      <th></th>\n",
       "      <th>id</th>\n",
       "      <th>COUNT(p.id)</th>\n",
       "      <th>MIN(date_created)</th>\n",
       "      <th>MAX(date_created)</th>\n",
       "    </tr>\n",
       "  </thead>\n",
       "  <tbody>\n",
       "    <tr>\n",
       "      <th>0</th>\n",
       "      <td>1</td>\n",
       "      <td>34742</td>\n",
       "      <td>2007-10-20 07:40PM</td>\n",
       "      <td>2021-02-26 10:53PM</td>\n",
       "    </tr>\n",
       "    <tr>\n",
       "      <th>1</th>\n",
       "      <td>2</td>\n",
       "      <td>2793434</td>\n",
       "      <td>2005-11-10 01:40PM</td>\n",
       "      <td>2021-03-05 12:03PM</td>\n",
       "    </tr>\n",
       "    <tr>\n",
       "      <th>2</th>\n",
       "      <td>3</td>\n",
       "      <td>2629988</td>\n",
       "      <td>2005-06-24 05:57PM</td>\n",
       "      <td>2021-03-07 11:31AM</td>\n",
       "    </tr>\n",
       "    <tr>\n",
       "      <th>3</th>\n",
       "      <td>4</td>\n",
       "      <td>235676</td>\n",
       "      <td>2005-11-08 07:39PM</td>\n",
       "      <td>2021-02-28 09:51PM</td>\n",
       "    </tr>\n",
       "    <tr>\n",
       "      <th>4</th>\n",
       "      <td>5</td>\n",
       "      <td>2188663</td>\n",
       "      <td>2005-09-19 08:08PM</td>\n",
       "      <td>2021-03-04 08:14AM</td>\n",
       "    </tr>\n",
       "    <tr>\n",
       "      <th>5</th>\n",
       "      <td>6</td>\n",
       "      <td>99384</td>\n",
       "      <td>2006-12-30 01:09AM</td>\n",
       "      <td>2021-02-12 11:34AM</td>\n",
       "    </tr>\n",
       "    <tr>\n",
       "      <th>6</th>\n",
       "      <td>7</td>\n",
       "      <td>7925</td>\n",
       "      <td>2020-01-28 06:48PM</td>\n",
       "      <td>2021-02-27 04:33PM</td>\n",
       "    </tr>\n",
       "    <tr>\n",
       "      <th>7</th>\n",
       "      <td>8</td>\n",
       "      <td>95001</td>\n",
       "      <td>2008-10-26 11:06PM</td>\n",
       "      <td>2021-02-26 08:26PM</td>\n",
       "    </tr>\n",
       "    <tr>\n",
       "      <th>8</th>\n",
       "      <td>9</td>\n",
       "      <td>995689</td>\n",
       "      <td>2005-10-13 09:54PM</td>\n",
       "      <td>2021-03-04 09:36PM</td>\n",
       "    </tr>\n",
       "    <tr>\n",
       "      <th>9</th>\n",
       "      <td>10</td>\n",
       "      <td>23102</td>\n",
       "      <td>2005-12-27 05:36PM</td>\n",
       "      <td>2021-03-05 07:42AM</td>\n",
       "    </tr>\n",
       "    <tr>\n",
       "      <th>10</th>\n",
       "      <td>11</td>\n",
       "      <td>161605</td>\n",
       "      <td>2006-02-22 11:47AM</td>\n",
       "      <td>2021-03-04 07:58AM</td>\n",
       "    </tr>\n",
       "    <tr>\n",
       "      <th>11</th>\n",
       "      <td>12</td>\n",
       "      <td>108607</td>\n",
       "      <td>2005-08-15 02:45PM</td>\n",
       "      <td>2021-03-01 01:18PM</td>\n",
       "    </tr>\n",
       "    <tr>\n",
       "      <th>12</th>\n",
       "      <td>13</td>\n",
       "      <td>105062</td>\n",
       "      <td>2005-06-18 10:29PM</td>\n",
       "      <td>2021-03-03 01:39PM</td>\n",
       "    </tr>\n",
       "    <tr>\n",
       "      <th>13</th>\n",
       "      <td>14</td>\n",
       "      <td>193652</td>\n",
       "      <td>2005-11-17 01:59PM</td>\n",
       "      <td>2021-03-11 02:07PM</td>\n",
       "    </tr>\n",
       "    <tr>\n",
       "      <th>14</th>\n",
       "      <td>15</td>\n",
       "      <td>208193</td>\n",
       "      <td>2005-07-01 01:32PM</td>\n",
       "      <td>2021-02-25 03:02PM</td>\n",
       "    </tr>\n",
       "    <tr>\n",
       "      <th>15</th>\n",
       "      <td>16</td>\n",
       "      <td>295443</td>\n",
       "      <td>2005-10-16 07:16PM</td>\n",
       "      <td>2021-02-26 12:11PM</td>\n",
       "    </tr>\n",
       "    <tr>\n",
       "      <th>16</th>\n",
       "      <td>17</td>\n",
       "      <td>1031354</td>\n",
       "      <td>2005-10-09 07:51AM</td>\n",
       "      <td>2021-03-04 10:13PM</td>\n",
       "    </tr>\n",
       "    <tr>\n",
       "      <th>17</th>\n",
       "      <td>18</td>\n",
       "      <td>426124</td>\n",
       "      <td>2005-07-05 10:11PM</td>\n",
       "      <td>2021-03-06 01:40PM</td>\n",
       "    </tr>\n",
       "    <tr>\n",
       "      <th>18</th>\n",
       "      <td>19</td>\n",
       "      <td>18120</td>\n",
       "      <td>2008-06-17 10:13AM</td>\n",
       "      <td>2021-02-12 05:23PM</td>\n",
       "    </tr>\n",
       "    <tr>\n",
       "      <th>19</th>\n",
       "      <td>20</td>\n",
       "      <td>477784</td>\n",
       "      <td>2005-12-20 01:56PM</td>\n",
       "      <td>2021-03-10 02:09PM</td>\n",
       "    </tr>\n",
       "    <tr>\n",
       "      <th>20</th>\n",
       "      <td>21</td>\n",
       "      <td>2961063</td>\n",
       "      <td>2005-03-21 01:03PM</td>\n",
       "      <td>2021-03-05 07:27AM</td>\n",
       "    </tr>\n",
       "    <tr>\n",
       "      <th>21</th>\n",
       "      <td>22</td>\n",
       "      <td>63932</td>\n",
       "      <td>2008-04-19 06:09PM</td>\n",
       "      <td>2021-03-06 03:58AM</td>\n",
       "    </tr>\n",
       "    <tr>\n",
       "      <th>22</th>\n",
       "      <td>23</td>\n",
       "      <td>127907</td>\n",
       "      <td>2005-10-13 10:38PM</td>\n",
       "      <td>2021-03-06 09:25AM</td>\n",
       "    </tr>\n",
       "    <tr>\n",
       "      <th>23</th>\n",
       "      <td>24</td>\n",
       "      <td>210523</td>\n",
       "      <td>2006-07-09 08:21PM</td>\n",
       "      <td>2021-03-06 08:41AM</td>\n",
       "    </tr>\n",
       "    <tr>\n",
       "      <th>24</th>\n",
       "      <td>25</td>\n",
       "      <td>126632</td>\n",
       "      <td>2006-09-01 06:47AM</td>\n",
       "      <td>2021-03-07 11:08AM</td>\n",
       "    </tr>\n",
       "    <tr>\n",
       "      <th>25</th>\n",
       "      <td>26</td>\n",
       "      <td>310202</td>\n",
       "      <td>2005-06-18 10:29PM</td>\n",
       "      <td>2021-03-07 12:09AM</td>\n",
       "    </tr>\n",
       "  </tbody>\n",
       "</table>\n",
       "</div>"
      ],
      "text/plain": [
       "    id  COUNT(p.id)   MIN(date_created)   MAX(date_created)\n",
       "0    1        34742  2007-10-20 07:40PM  2021-02-26 10:53PM\n",
       "1    2      2793434  2005-11-10 01:40PM  2021-03-05 12:03PM\n",
       "2    3      2629988  2005-06-24 05:57PM  2021-03-07 11:31AM\n",
       "3    4       235676  2005-11-08 07:39PM  2021-02-28 09:51PM\n",
       "4    5      2188663  2005-09-19 08:08PM  2021-03-04 08:14AM\n",
       "5    6        99384  2006-12-30 01:09AM  2021-02-12 11:34AM\n",
       "6    7         7925  2020-01-28 06:48PM  2021-02-27 04:33PM\n",
       "7    8        95001  2008-10-26 11:06PM  2021-02-26 08:26PM\n",
       "8    9       995689  2005-10-13 09:54PM  2021-03-04 09:36PM\n",
       "9   10        23102  2005-12-27 05:36PM  2021-03-05 07:42AM\n",
       "10  11       161605  2006-02-22 11:47AM  2021-03-04 07:58AM\n",
       "11  12       108607  2005-08-15 02:45PM  2021-03-01 01:18PM\n",
       "12  13       105062  2005-06-18 10:29PM  2021-03-03 01:39PM\n",
       "13  14       193652  2005-11-17 01:59PM  2021-03-11 02:07PM\n",
       "14  15       208193  2005-07-01 01:32PM  2021-02-25 03:02PM\n",
       "15  16       295443  2005-10-16 07:16PM  2021-02-26 12:11PM\n",
       "16  17      1031354  2005-10-09 07:51AM  2021-03-04 10:13PM\n",
       "17  18       426124  2005-07-05 10:11PM  2021-03-06 01:40PM\n",
       "18  19        18120  2008-06-17 10:13AM  2021-02-12 05:23PM\n",
       "19  20       477784  2005-12-20 01:56PM  2021-03-10 02:09PM\n",
       "20  21      2961063  2005-03-21 01:03PM  2021-03-05 07:27AM\n",
       "21  22        63932  2008-04-19 06:09PM  2021-03-06 03:58AM\n",
       "22  23       127907  2005-10-13 10:38PM  2021-03-06 09:25AM\n",
       "23  24       210523  2006-07-09 08:21PM  2021-03-06 08:41AM\n",
       "24  25       126632  2006-09-01 06:47AM  2021-03-07 11:08AM\n",
       "25  26       310202  2005-06-18 10:29PM  2021-03-07 12:09AM"
      ]
     },
     "execution_count": 6,
     "metadata": {},
     "output_type": "execute_result"
    }
   ],
   "source": [
    "counts"
   ]
  },
  {
   "cell_type": "markdown",
   "metadata": {},
   "source": [
    "Special needs subforum"
   ]
  },
  {
   "cell_type": "code",
   "execution_count": 29,
   "metadata": {},
   "outputs": [],
   "source": [
    "sn_sql = '''\n",
    "    SELECT\n",
    "        p.id AS post_id,\n",
    "        p.date_created AS date_created,\n",
    "        p.thread_id AS thread_id,\n",
    "        s.neg_sen_clean as neg_sentiment,\n",
    "        s.neu_sen_clean as neu_sentiment,\n",
    "        s.pos_sen_clean as pos_sentiment,\n",
    "        s.com_sen_clean as com_sentiment\n",
    "    FROM sentiment AS s\n",
    "    LEFT JOIN posts AS p\n",
    "    ON p.id = s.post_id\n",
    "    LEFT JOIN threads AS t\n",
    "    ON t.id=p.thread_id\n",
    "    LEFT JOIN subforums AS s\n",
    "    ON s.id=t.subforum_id\n",
    "    LEFT JOIN forums AS f\n",
    "    ON f.id=s.forum_id\n",
    "    WHERE f.id=24\n",
    "'''"
   ]
  },
  {
   "cell_type": "code",
   "execution_count": 30,
   "metadata": {},
   "outputs": [],
   "source": [
    "sn = pd.read_sql_query(sn_sql, conn)"
   ]
  },
  {
   "cell_type": "code",
   "execution_count": 31,
   "metadata": {},
   "outputs": [],
   "source": [
    "sn = create_dates(sn)"
   ]
  },
  {
   "cell_type": "code",
   "execution_count": null,
   "metadata": {},
   "outputs": [],
   "source": [
    "sn.to_csv(path_sn, index=False)"
   ]
  },
  {
   "cell_type": "markdown",
   "metadata": {},
   "source": [
    "Toddler subforum: generate a 10% sample of family_ids to make processing easier"
   ]
  },
  {
   "cell_type": "code",
   "execution_count": null,
   "metadata": {},
   "outputs": [],
   "source": [
    "td_ids_sql = ''' SELECT family_id FROM threads WHERE subforum=\"toddler\" '''"
   ]
  },
  {
   "cell_type": "code",
   "execution_count": null,
   "metadata": {},
   "outputs": [],
   "source": [
    "conn = create_connection(path_db)"
   ]
  },
  {
   "cell_type": "code",
   "execution_count": null,
   "metadata": {},
   "outputs": [],
   "source": [
    "td_ids = pd.read_sql_query(td_ids_sql, conn)"
   ]
  },
  {
   "cell_type": "code",
   "execution_count": null,
   "metadata": {},
   "outputs": [],
   "source": [
    "id_10per_sample = td_ids.sample(frac = 0.1, random_state = 281)"
   ]
  },
  {
   "cell_type": "code",
   "execution_count": null,
   "metadata": {},
   "outputs": [],
   "source": [
    "id_10per_sample.info()"
   ]
  },
  {
   "cell_type": "code",
   "execution_count": null,
   "metadata": {},
   "outputs": [],
   "source": [
    "temp_table_sql = ''' \n",
    "    CREATE TEMPORARY TABLE\n",
    "        temp(id INTEGER NOT NULL PRIMARY KEY AUTOINCREMENT UNIQUE, family_id INTEGER);\n",
    "    '''"
   ]
  },
  {
   "cell_type": "code",
   "execution_count": null,
   "metadata": {},
   "outputs": [],
   "source": [
    "cur = conn.cursor()\n",
    "cur.execute(temp_table_sql)"
   ]
  },
  {
   "cell_type": "code",
   "execution_count": null,
   "metadata": {},
   "outputs": [],
   "source": [
    "id_10per_sample.to_sql('temp', conn, if_exists='append', index=False)"
   ]
  },
  {
   "cell_type": "code",
   "execution_count": null,
   "metadata": {},
   "outputs": [],
   "source": [
    "# posts: message_id (merge var), date_created, parent_id\n",
    "# sentiment: message_id (merge var), *_sen_* (sentiment variables)\n",
    "td_sql = '''\n",
    "    SELECT\n",
    "        p.message_id AS message_id,\n",
    "        p.date_created AS date_created,\n",
    "        p.parent_id AS parent_id,\n",
    "        s.neg_sen_all as neg_sen,\n",
    "        s.neu_sen_all as neu_sen_all,\n",
    "        s.pos_sen_all as pos_sen_all,\n",
    "        s.com_sen_all as com_sen_all,\n",
    "        s.neg_sen_no_url as neg_sen_no_url,\n",
    "        s.neu_sen_no_url as neu_sen_no_url,\n",
    "        s.pos_sen_no_url as pos_sen_no_url,\n",
    "        s.com_sen_no_url as com_sen_no_url\n",
    "    FROM posts AS p\n",
    "    JOIN sentiment AS s\n",
    "    ON p.message_id = s.message_id\n",
    "    WHERE p.family_id IN (SELECT family_id FROM temp)\n",
    "'''"
   ]
  },
  {
   "cell_type": "code",
   "execution_count": null,
   "metadata": {},
   "outputs": [],
   "source": [
    "td = pd.read_sql_query(td_sql, conn)"
   ]
  },
  {
   "cell_type": "code",
   "execution_count": null,
   "metadata": {},
   "outputs": [],
   "source": [
    "# drop temp table\n",
    "conn.close()"
   ]
  },
  {
   "cell_type": "code",
   "execution_count": null,
   "metadata": {},
   "outputs": [],
   "source": [
    "td = create_dates(td)"
   ]
  },
  {
   "cell_type": "code",
   "execution_count": null,
   "metadata": {},
   "outputs": [],
   "source": [
    "td.to_csv(path_td, index=False)"
   ]
  },
  {
   "cell_type": "markdown",
   "metadata": {},
   "source": [
    "## Compare Sentiment"
   ]
  },
  {
   "cell_type": "markdown",
   "metadata": {},
   "source": [
    "### 1. Subsets in correct date range: 2018-01-01 to 2020-11-30"
   ]
  },
  {
   "cell_type": "code",
   "execution_count": 32,
   "metadata": {},
   "outputs": [],
   "source": [
    "# td_sub = filter_dates(td, pd.Timestamp(2014, 1, 1, 0, 0, 0), pd.Timestamp(2020, 12, 1, 0, 0, 0))\n",
    "sn_sub = filter_dates(sn, pd.Timestamp(2014, 1, 1, 0, 0, 0), pd.Timestamp(2020, 12, 1, 0, 0, 0))"
   ]
  },
  {
   "cell_type": "markdown",
   "metadata": {},
   "source": [
    "### 2. Comparing sentiment before and during pandemic with a t-test"
   ]
  },
  {
   "cell_type": "code",
   "execution_count": null,
   "metadata": {
    "scrolled": false
   },
   "outputs": [],
   "source": [
    "for name, df in {\"Special Needs\":sn_sub, \"Toddler\":td_sub}.items():\n",
    "    print(name)\n",
    "    ttest_sentiment(df, 'neg_sen_no_url')\n",
    "    ttest_sentiment(df, 'neu_sen_no_url')\n",
    "    ttest_sentiment(df, 'pos_sen_no_url')\n",
    "    ttest_sentiment(df, 'com_sen_no_url')\n",
    "    print(\"\\n\")"
   ]
  },
  {
   "cell_type": "code",
   "execution_count": 33,
   "metadata": {},
   "outputs": [
    {
     "data": {
      "image/png": "[encoded data removed]",
      "text/plain": [
       "<Figure size 432x288 with 1 Axes>"
      ]
     },
     "metadata": {
      "needs_background": "light"
     },
     "output_type": "display_data"
    }
   ],
   "source": [
    "# for name, df in {\"Special Needs\":sn_sub, \"Toddler\":td_sub}.items():\n",
    "for name, df in {\"Special Needs\":sn_sub}.items():\n",
    "    fig, ax = plt.subplots()\n",
    "    width = 0.35\n",
    "    sentiments = ['Negative', 'Positive']\n",
    "    x_pos = np.arange(len(sentiments))\n",
    "\n",
    "    before_mean = [df[\"neg_sentiment\"][df['before']].mean(),\n",
    "                   df[\"pos_sentiment\"][df['before']].mean()]\n",
    "    before_se = [df[\"neg_sentiment\"][df['before']].std()/math.sqrt(len(df[\"neg_sentiment\"][df['before']])),\n",
    "                 df[\"pos_sentiment\"][df['before']].std()/math.sqrt(len(df[\"pos_sentiment\"][df['before']]))]\n",
    "    during_mean = [df[\"neg_sentiment\"][df['during']].mean(),\n",
    "                   df[\"pos_sentiment\"][df['during']].mean()]\n",
    "    during_se = [df[\"neg_sentiment\"][df['during']].std()/math.sqrt(len(df[\"neg_sentiment\"][df['during']])),\n",
    "                 df[\"pos_sentiment\"][df['during']].std()/math.sqrt(len(df[\"pos_sentiment\"][df['during']]))]\n",
    "\n",
    "    rects_before = ax.bar(x_pos - width/2, before_mean, width, yerr=before_se,\n",
    "                    label='Before', capsize=5, color=\"cornflowerblue\")\n",
    "    rects_during = ax.bar(x_pos + width/2, during_mean, width, yerr=during_se,\n",
    "                    label='During', capsize=5, color=\"indianred\")\n",
    "\n",
    "    # Add some text for labels, title and custom x-axis tick labels, etc.\n",
    "    ax.set_ylabel('Average Sentiment Score\\n(normalized 0 to 1)')\n",
    "    ax.set_title('Comparison of Sentiment Scores: {}'.format(name))\n",
    "    ax.set_xticks(x_pos)\n",
    "    ax.set_xticklabels(sentiments)\n",
    "    ax.legend()\n",
    "    fig.tight_layout()\n",
    "#     plt.savefig('../plots/sentiment_neg_pos.png')\n",
    "    plt.show()"
   ]
  },
  {
   "cell_type": "markdown",
   "metadata": {},
   "source": [
    "### 3. Comparing sentiment of parent and child posts"
   ]
  },
  {
   "cell_type": "code",
   "execution_count": null,
   "metadata": {
    "scrolled": false
   },
   "outputs": [],
   "source": [
    "for df in [sn_sub, td_sub]:\n",
    "    print(\"\\nGROUP\\n\")\n",
    "    compare = compare_parent_child(df)\n",
    "    est_pos = ols(formula = 'pos_sentiment_c ~ pos_sentiment_p', data = compare).fit()\n",
    "    print(est_pos.summary())\n",
    "    est_neg = ols(formula = 'neg_sentiment_c ~ neg_sentiment_p', data = compare).fit()\n",
    "    print(est_neg.summary())\n",
    "    est_compound = ols(formula = 'compound_sentiment_c ~ compound_sentiment_p', data = compare).fit()\n",
    "    print(est_compound.summary())"
   ]
  },
  {
   "cell_type": "markdown",
   "metadata": {},
   "source": [
    "So this suggests if a parent comment's negative sentiment increases, the children's negative sentiment will increase as well. Perhaps redo this analysis on each observation rather than the average children's sentiment."
   ]
  },
  {
   "cell_type": "markdown",
   "metadata": {},
   "source": [
    "### 4. Compare density of compound sentiment"
   ]
  },
  {
   "cell_type": "code",
   "execution_count": 34,
   "metadata": {
    "scrolled": false
   },
   "outputs": [
    {
     "data": {
      "image/png": "[encoded data removed]",
      "text/plain": [
       "<Figure size 432x288 with 1 Axes>"
      ]
     },
     "metadata": {
      "needs_background": "light"
     },
     "output_type": "display_data"
    }
   ],
   "source": [
    "# for name, df in {\"Special Needs\":sn_sub, \"Toddler\":td_sub}.items():\n",
    "for name, df in {\"Special Needs\":sn_sub}.items():\n",
    "    density_before = kde.gaussian_kde(df[\"com_sentiment\"][df['before']])\n",
    "    density_march = kde.gaussian_kde(df[\"com_sentiment\"][df['march']])\n",
    "    density_during = kde.gaussian_kde(df[\"com_sentiment\"][df['during']])\n",
    "    x = np.arange(-1.0, 1.0, 0.01)\n",
    "    plt.scatter(x, density_before(x), alpha=0.5, label=\"Before\")\n",
    "    plt.scatter(x, density_march(x), alpha=0.5, label=\"March\")\n",
    "    plt.scatter(x, density_during(x), alpha=0.5, label=\"During\")\n",
    "    plt.legend(loc=\"upper right\")\n",
    "    plt.title('Density of Compound Sentiment Scores: {}'.format(name))\n",
    "    plt.show()"
   ]
  },
  {
   "cell_type": "code",
   "execution_count": 38,
   "metadata": {},
   "outputs": [
    {
     "data": {
      "image/png": "[encoded data removed]",
      "text/plain": [
       "<Figure size 432x288 with 1 Axes>"
      ]
     },
     "metadata": {
      "needs_background": "light"
     },
     "output_type": "display_data"
    }
   ],
   "source": [
    "size = 3\n",
    "# for name, df in {\"Special Needs\":sn, \"Toddler\":td_sub}.items():\n",
    "for name, df in {\"Special Needs\":sn_sub}.items():\n",
    "    daily_ave = ave_sent_day(df)\n",
    "    groups = daily_ave.groupby('period')\n",
    "    for period, group in groups:\n",
    "        plt.scatter(group.index, group.com_sentiment, label=period, s=size)\n",
    "    plt.legend(loc=\"lower left\")\n",
    "    plt.xticks(rotation=90)\n",
    "    plt.ylabel('Compound Sentiment\\n(normalized -1 to 1)')\n",
    "    plt.title('Daily Average Compound Sentiment Scores: {}'.format(name))\n",
    "    plt.axhline(y=0, color='black', linestyle='-', alpha=0.5)\n",
    "    plt.tight_layout()\n",
    "    plt.show()"
   ]
  },
  {
   "cell_type": "markdown",
   "metadata": {},
   "source": [
    "### 5. Compare post frequency over same period for special needs and toddler subforums"
   ]
  },
  {
   "cell_type": "markdown",
   "metadata": {},
   "source": [
    "Frequency"
   ]
  },
  {
   "cell_type": "code",
   "execution_count": 41,
   "metadata": {
    "scrolled": true
   },
   "outputs": [
    {
     "data": {
      "image/png": "[encoded data removed]",
      "text/plain": [
       "<Figure size 432x288 with 1 Axes>"
      ]
     },
     "metadata": {
      "needs_background": "light"
     },
     "output_type": "display_data"
    }
   ],
   "source": [
    "size = 3\n",
    "# for name, df in {\"Special Needs\":sn, \"Toddler\":td_sub}.items():\n",
    "for name, df in {\"Special Needs\":sn_sub}.items():\n",
    "    freq = daily_freq(df)\n",
    "    groups = freq.groupby('period')\n",
    "    for period, group in groups:\n",
    "        plt.scatter(group.index, group.daily_count, label=period, s=size)\n",
    "    plt.legend(loc=\"lower left\")\n",
    "    plt.xticks(rotation=90)\n",
    "    plt.ylabel('Frequency')\n",
    "    plt.title('Daily Frequency of Posts: {}'.format(name))\n",
    "    plt.axhline(y=0, color='black', linestyle='-', alpha=0.5)\n",
    "    plt.tight_layout()\n",
    "    plt.show()"
   ]
  },
  {
   "cell_type": "markdown",
   "metadata": {},
   "source": [
    "### 6. Compare within-individual sentiment over time"
   ]
  },
  {
   "cell_type": "code",
   "execution_count": null,
   "metadata": {},
   "outputs": [],
   "source": [
    "# average sentiment by months/quarters/years since first participation???"
   ]
  }
 ],
 "metadata": {
  "kernelspec": {
   "display_name": "Python 3",
   "language": "python",
   "name": "python3"
  },
  "language_info": {
   "codemirror_mode": {
    "name": "ipython",
    "version": 3
   },
   "file_extension": ".py",
   "mimetype": "text/x-python",
   "name": "python",
   "nbconvert_exporter": "python",
   "pygments_lexer": "ipython3",
   "version": "3.8.5"
  }
 },
 "nbformat": 4,
 "nbformat_minor": 4
}
