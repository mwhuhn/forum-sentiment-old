{
 "cells": [
  {
   "cell_type": "markdown",
   "metadata": {},
   "source": [
    "# Scrape Forum Data\n",
    "This notebook scrapes the Netmums and inserts the results into a SQLite database\n",
    "\n",
    "## Data Sources\n",
    "- Netmums forum: https://www.netmums.com/coffeehouse/\n",
    "\n",
    "## Changes\n",
    "- 2020-01-30: Created\n",
    "- 2020-02-02: Added thread scraping\n",
    "- 2020-02-05: Moved functions to netmums.py\n",
    "\n",
    "## TODO\n",
    "- "
   ]
  },
  {
   "cell_type": "markdown",
   "metadata": {},
   "source": [
    "## Imports"
   ]
  },
  {
   "cell_type": "code",
   "execution_count": 1,
   "metadata": {},
   "outputs": [],
   "source": [
    "import sqlite3\n",
    "from pathlib import Path\n",
    "from netmums import *\n",
    "from scraping import *\n",
    "from datetime import datetime\n",
    "import os\n",
    "import csv\n",
    "import re\n",
    "from tqdm import tqdm"
   ]
  },
  {
   "cell_type": "markdown",
   "metadata": {},
   "source": [
    "## File Locations"
   ]
  },
  {
   "cell_type": "code",
   "execution_count": null,
   "metadata": {},
   "outputs": [],
   "source": [
    "p = Path.cwd()\n",
    "path_parent = p.parents[0]"
   ]
  },
  {
   "cell_type": "code",
   "execution_count": null,
   "metadata": {},
   "outputs": [],
   "source": [
    "path_db = str(path_parent / \"database\" / \"netmums-merged.db\")\n",
    "path_groups = str(path_parent / \"scripts\" / \"netmums-group_{}.py\")"
   ]
  },
  {
   "cell_type": "markdown",
   "metadata": {},
   "source": [
    "## Get Forum List"
   ]
  },
  {
   "cell_type": "markdown",
   "metadata": {},
   "source": [
    "Create list of Netmum forum pages in the db. Skip if already created. "
   ]
  },
  {
   "cell_type": "code",
   "execution_count": null,
   "metadata": {},
   "outputs": [],
   "source": [
    "conn = create_connection(path_db)\n",
    "cur = conn.cursor()"
   ]
  },
  {
   "cell_type": "code",
   "execution_count": null,
   "metadata": {},
   "outputs": [],
   "source": [
    "cur.execute(''' SELECT count(name) FROM sqlite_master WHERE type='table' AND name='forums' ''')\n",
    "if cur.fetchone()[0] == 0:\n",
    "    set_up_merged_db(conn)"
   ]
  },
  {
   "cell_type": "code",
   "execution_count": null,
   "metadata": {
    "scrolled": true
   },
   "outputs": [],
   "source": [
    "cur.execute(''' SELECT count(id) FROM forums ''')\n",
    "if cur.fetchone()[0] == 0:\n",
    "    url = \"https://www.netmums.com/coffeehouse/\"\n",
    "    soup = get_soup(url)\n",
    "    forums = soup.find_all(\"div\", {\"class\": \"left\"})\n",
    "    for forum in forums:\n",
    "        if forum_link := forum.find('a', href=True):\n",
    "            parsed = (forum_link['href'].strip(), forum_link.get_text().strip())\n",
    "            sql = '''\n",
    "                INSERT INTO forums(url,name)\n",
    "                VALUES(?,?)\n",
    "            '''\n",
    "            cur.execute(sql, parsed)\n",
    "conn.commit()"
   ]
  },
  {
   "cell_type": "markdown",
   "metadata": {},
   "source": [
    "## Subforums"
   ]
  },
  {
   "cell_type": "code",
   "execution_count": null,
   "metadata": {},
   "outputs": [],
   "source": [
    "cur.execute(''' SELECT count(id) FROM subforums ''')\n",
    "if cur.fetchone()[0] == 0:\n",
    "    cur.execute(''' SELECT id, url FROM forums ''')\n",
    "    rows = cur.fetchall()\n",
    "    for row in rows:\n",
    "        (forum_id, url) = row\n",
    "        soup = get_soup(url)\n",
    "        for subforum in soup.find_all(\"a\", {\"class\": \"cCatTopic\"}):\n",
    "            parsed = (subforum['href'].strip(), subforum.get_text().strip(),forum_id)\n",
    "            sql = '''\n",
    "                INSERT INTO subforums(url,name,forum_id)\n",
    "                VALUES(?,?,?)\n",
    "            '''\n",
    "            cur.execute(sql, parsed)\n",
    "conn.commit()"
   ]
  },
  {
   "cell_type": "markdown",
   "metadata": {},
   "source": [
    "## Threads"
   ]
  },
  {
   "cell_type": "code",
   "execution_count": null,
   "metadata": {
    "scrolled": true
   },
   "outputs": [],
   "source": [
    "cur.execute(''' SELECT count(id) FROM threads ''')\n",
    "if cur.fetchone()[0] == 0:\n",
    "    cur.execute(''' SELECT id, url FROM subforums ''')\n",
    "    rows = cur.fetchall()\n",
    "    for row in tqdm(rows):\n",
    "        scrape_threads(cur, row)\n",
    "        conn.commit()"
   ]
  },
  {
   "cell_type": "markdown",
   "metadata": {},
   "source": [
    "## Posts\n",
    "Create individual scraper files for each chunk of thread urls. Run with: ```nohup python3 netmums-group_xx.py > output_xx.txt &```"
   ]
  },
  {
   "cell_type": "markdown",
   "metadata": {},
   "source": [
    "Posts can have different formatting in different situations, which leads to problems with parsing:\n",
    "1. Must parse posts with citations to other posts differently than those without citations\n",
    "2. Long urls are shortened when posted directly\n",
    "3. WYSIWYG emojis must be translated from image to text\n",
    "4. Skip the first post on each page after the first, it is duplicated from the last"
   ]
  },
  {
   "cell_type": "markdown",
   "metadata": {},
   "source": [
    "This can be restart automatically. It deletes the last record collected in threads and starts rescraping that thread_id (if one exists)."
   ]
  },
  {
   "cell_type": "code",
   "execution_count": null,
   "metadata": {},
   "outputs": [],
   "source": [
    "cur.execute(''' SELECT max(id) FROM threads ''')\n",
    "max_id = cur.fetchone()[0]"
   ]
  },
  {
   "cell_type": "code",
   "execution_count": null,
   "metadata": {},
   "outputs": [],
   "source": [
    "n_groups = 5\n",
    "size = round(max_id / n_groups)"
   ]
  },
  {
   "cell_type": "code",
   "execution_count": null,
   "metadata": {},
   "outputs": [],
   "source": [
    "text = \"\"\"#!/usr/bin/env python3\n",
    "# coding: utf-8\n",
    "\n",
    "## Imports\n",
    "\n",
    "from netmums import *\n",
    "from scraping import *\n",
    "from pathlib import Path\n",
    "\n",
    "## File Locations\n",
    "\n",
    "p = Path.cwd()\n",
    "path_parent = p.parents[0]\n",
    "path_db_parent = str(path_parent / \"database\" / \"netmums-merged.db\")\n",
    "path_db_child = str(path_parent / \"database\" / \"netmums{0}.db\")\n",
    "\n",
    "## Connect to the database and create the tables.\n",
    "\n",
    "### find max id in child db posts\n",
    "conn = create_connection(path_db_child)\n",
    "set_up_posts_db(conn)\n",
    "cur = conn.cursor()\n",
    "cur.execute(''' SELECT MAX(thread_id) FROM posts ''')\n",
    "max_thread = cur.fetchone()[0]\n",
    "if max_thread == None:\n",
    "    first = {1}\n",
    "else: # restart scraping from last complete thread id\n",
    "    cur.execute(''' DELETE FROM posts WHERE thread_id=?''', (max_thread,))\n",
    "    conn.commit()\n",
    "    first = max_thread\n",
    "conn.close()\n",
    "\n",
    "### select rows from parent db threads\n",
    "conn = create_connection(path_db_parent)\n",
    "cur = conn.cursor()\n",
    "cur.execute(''' SELECT id, url FROM threads WHERE id>=? AND id<={2} ''', (first,))\n",
    "rows = cur.fetchall()\n",
    "conn.close()\n",
    "\n",
    "### connect back to child db\n",
    "conn = create_connection(path_db_child)\n",
    "set_up_posts_db(conn)\n",
    "\n",
    "## Scrape threads\n",
    "\n",
    "for row in rows:\n",
    "    scrape_posts(conn, row)\n",
    "\n",
    "conn.close()\n",
    "\"\"\"\n"
   ]
  },
  {
   "cell_type": "code",
   "execution_count": null,
   "metadata": {},
   "outputs": [],
   "source": [
    "for g in range(n_groups):\n",
    "    first = 1 + (size * g)\n",
    "    if g == (n_groups - 1):\n",
    "        last = max_id\n",
    "    else:\n",
    "        last = (size * (g + 1))\n",
    "    if g + 1 < 10:\n",
    "        num = \"0{}\".format(g + 1)\n",
    "    else:\n",
    "        num = \"{}\".format(g + 1)\n",
    "    with open(path_groups.format(num), 'w') as w:\n",
    "        w.write(text.format(num, first, last))"
   ]
  },
  {
   "cell_type": "code",
   "execution_count": null,
   "metadata": {},
   "outputs": [],
   "source": [
    "conn.close()"
   ]
  },
  {
   "cell_type": "code",
   "execution_count": 23,
   "metadata": {},
   "outputs": [],
   "source": [
    "url = \"https://www.netmums.com/coffeehouse/forum-faqs-1/forum-user-guide-534/1866241-becoming-ofsted-registered-nanny.html\""
   ]
  },
  {
   "cell_type": "code",
   "execution_count": 24,
   "metadata": {},
   "outputs": [],
   "source": [
    "soup=get_soup(url)"
   ]
  },
  {
   "cell_type": "code",
   "execution_count": 25,
   "metadata": {},
   "outputs": [
    {
     "name": "stdout",
     "output_type": "stream",
     "text": [
      "https://www.netmums.com/coffeehouse/childcare-1055/nannies-1059/1935666-becoming-ofsted-registered-nanny.html\n"
     ]
    }
   ],
   "source": [
    "canonical_link = soup.find(\"link\", {\"rel\":\"canonical\"})\n",
    "print(canonical_link[\"href\"])"
   ]
  },
  {
   "cell_type": "code",
   "execution_count": 18,
   "metadata": {},
   "outputs": [],
   "source": [
    "script = script.get_text()\n",
    "script = json.loads(script)\n",
    "posts = script[\"props\"][\"pageProps\"][\"initialReduxState\"][\"currentThread\"][\"currentThread\"][\"pagePosts\"]"
   ]
  },
  {
   "cell_type": "code",
   "execution_count": 19,
   "metadata": {},
   "outputs": [
    {
     "name": "stdout",
     "output_type": "stream",
     "text": [
      "{'id': '19713288', 'user': {'avatarUrl': 'https://www.netmums.com/coffeehouse/profile/static/generated/merged/flat/design/user/avatar/default_tns1_avatar.png?v=1615454807', 'pseudo': 'Victoria W(696)', 'userSlug': 'victoria-w-696', 'registrationDate': '2014-10-11', 'postedMessagesCount': 1, 'isOnline': False, 'anonymized': False, 'signature': '', 'role': ''}, 'date': '2019-06-27T10:54', 'content': 'Hello, my friend is on maternity leave. She was will be returning to work late in the year. I have recently been let go from work so we are considering me becoming ofsted registered so I can look at the baby (i would for free but I have to go back to work at some point unfortunately we are saving for a house). I did childcare in collage and will a first aid course is there anything else I need. Finally, my friend gets UC, the baby is my son’s half sister (my ex’s daughter) will they count that as family?', 'quotedPosts': [], 'likesCount': 0, 'editedAt': '', 'editedBy': '', 'computedId': '8_1059_1935666_19713288'}\n",
      "{'id': '19713289', 'user': {'avatarUrl': 'https://www.netmums.com/coffeehouse/profile/static/generated/merged/flat/design/user/avatar/default_tns1_avatar.png?v=1615454807', 'pseudo': 'Susanne A(18)', 'userSlug': 'susanne-187', 'registrationDate': '2015-01-17', 'postedMessagesCount': 6661, 'isOnline': False, 'anonymized': False, 'signature': '', 'role': ''}, 'date': '2019-06-27T12:46', 'content': \"Nanny or childminder?<br>Maybe look at OFSTED's website? I know that the Care Inspectorate (Scottish equivalent) has loads of information on there, maybe they're the same?\", 'quotedPosts': [], 'likesCount': 0, 'editedAt': '', 'editedBy': '', 'computedId': '8_1059_1935666_19713289'}\n",
      "{'id': '19713291', 'user': {'avatarUrl': 'https://cdn.prod.nmums.doc-media.fr/netmums_awsprod/avatars/6/5/8/2479658/115087/tns1-115087.png?v=2', 'pseudo': 'Emma (100)', 'userSlug': 'emma-100', 'registrationDate': '2018-10-09', 'postedMessagesCount': 256, 'isOnline': False, 'anonymized': False, 'signature': '', 'role': ''}, 'date': '2021-02-15T09:08', 'content': 'This thread has been moved from category <b>Forum user guide</b> to category <b>Nannies</b> by <b>Emma (100)</b>', 'quotedPosts': [], 'likesCount': 0, 'editedAt': '', 'editedBy': '', 'computedId': '8_1059_1935666_19713291'}\n"
     ]
    }
   ],
   "source": [
    "for post in posts:\n",
    "    print(post)"
   ]
  },
  {
   "cell_type": "code",
   "execution_count": null,
   "metadata": {},
   "outputs": [],
   "source": [
    "cases = soup.find_all(\"div\", {\"class\",\"md-topic_post\"})"
   ]
  },
  {
   "cell_type": "code",
   "execution_count": null,
   "metadata": {},
   "outputs": [],
   "source": [
    "post = cases[0].find(\"div\", {\"class\": \"post_content\"})\n",
    "citations = post.find_all(\"span\", {\"itemprop\": \"citation\"})\n",
    "for i, cite in enumerate(citations):\n",
    "    print(cite.find(\"span\", {\"itemprop\": \"url\"}).get_text())\n",
    "    print(cite.find(\"span\", {\"itemprop\": \"author\"}).get_text())\n",
    "    print(cite.find(\"span\", {\"itemprop\": \"text\"}).get_text())"
   ]
  }
 ],
 "metadata": {
  "kernelspec": {
   "display_name": "Python 3",
   "language": "python",
   "name": "python3"
  },
  "language_info": {
   "codemirror_mode": {
    "name": "ipython",
    "version": 3
   },
   "file_extension": ".py",
   "mimetype": "text/x-python",
   "name": "python",
   "nbconvert_exporter": "python",
   "pygments_lexer": "ipython3",
   "version": "3.8.5"
  }
 },
 "nbformat": 4,
 "nbformat_minor": 4
}
