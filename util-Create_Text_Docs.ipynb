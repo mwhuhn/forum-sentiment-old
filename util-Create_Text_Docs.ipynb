{
 "cells": [
  {
   "cell_type": "markdown",
   "metadata": {},
   "source": [
    "# Create Text Docs"
   ]
  },
  {
   "cell_type": "code",
   "execution_count": 1,
   "metadata": {},
   "outputs": [],
   "source": [
    "from scraping import *\n",
    "from pathlib import Path\n",
    "import pandas as pd\n",
    "import textwrap"
   ]
  },
  {
   "cell_type": "code",
   "execution_count": 2,
   "metadata": {},
   "outputs": [],
   "source": [
    "p = Path.cwd()\n",
    "path_parent = p.parents[0]"
   ]
  },
  {
   "cell_type": "code",
   "execution_count": 3,
   "metadata": {},
   "outputs": [],
   "source": [
    "# database\n",
    "path_db = str(path_parent / \"database\" / \"youbemom-merged.db\")\n",
    "# topics\n",
    "path_topic_percents = str(path_parent / \"clean_data\" / \"topics_{0}_{1}_{2}.csv\")"
   ]
  },
  {
   "cell_type": "code",
   "execution_count": 4,
   "metadata": {},
   "outputs": [],
   "source": [
    "def gen_cols(n):\n",
    "    return [\"topic_{}\".format(str(i).zfill(2)) for i in range(n)]"
   ]
  },
  {
   "cell_type": "code",
   "execution_count": 5,
   "metadata": {},
   "outputs": [],
   "source": [
    "def write_line(fn, line):\n",
    "    with open(fn, 'a') as f:\n",
    "        f.write(line)"
   ]
  },
  {
   "cell_type": "code",
   "execution_count": 6,
   "metadata": {},
   "outputs": [],
   "source": [
    "def wrap_line(line, indent_n):\n",
    "    indent = \"  \" * indent_n\n",
    "    wrapper = textwrap.TextWrapper(width=70)\n",
    "    filled = wrapper.fill(text=line)\n",
    "    return textwrap.indent(text=filled, prefix=indent)"
   ]
  },
  {
   "cell_type": "code",
   "execution_count": 7,
   "metadata": {},
   "outputs": [],
   "source": [
    "def exp_ceil(n):\n",
    "    exp = 1\n",
    "    while n >= 10**exp:\n",
    "        exp += 1\n",
    "    return exp"
   ]
  },
  {
   "cell_type": "code",
   "execution_count": 8,
   "metadata": {},
   "outputs": [],
   "source": [
    "def write_wrapped(sf, col, rank, line, blanks):\n",
    "    path_text_files = str(path_parent / \"clean_data\" / \"text_posts\" / sf / \"post_{0}_{1}_{2}.txt\")\n",
    "    spaces = \"\\n\" * blanks\n",
    "    write_line(path_text_files.format(sf, col, rank), line + spaces)"
   ]
  },
  {
   "cell_type": "code",
   "execution_count": 9,
   "metadata": {},
   "outputs": [],
   "source": [
    "def make_topn_text(topn, sf, group, n):\n",
    "    sql = \"SELECT family_id, message_id, parent_id, title, body FROM posts WHERE family_id={}\"\n",
    "    df = pd.read_csv(path_topic_percents.format(sf, group, n))\n",
    "    cols = gen_cols(n)\n",
    "    for col in cols:\n",
    "        df = df.sort_values(by=col, ascending=False)\n",
    "        for i in range(topn):\n",
    "            rank = str(i).zfill(exp_ceil(max(range(topn))))\n",
    "            current_parent = []\n",
    "            indent_n = 0\n",
    "            family_id = df.iloc[i]['family_id']\n",
    "            score = df.iloc[i][col]\n",
    "            write_wrapped(sf, col, rank, \"subforum:  {}\".format(sf), 1)\n",
    "            write_wrapped(sf, col, rank, \"topic:     {}\".format(col), 1)\n",
    "            write_wrapped(sf, col, rank, \"rank:      {}\".format(rank), 1)\n",
    "            write_wrapped(sf, col, rank, \"family_id: {}\".format(family_id), 1)\n",
    "            write_wrapped(sf, col, rank, \"score:     {}\".format(score), 2)\n",
    "            cur.execute(sql.format(family_id))\n",
    "            rows = cur.fetchall()\n",
    "            for row in rows:\n",
    "                message_id = row[1]\n",
    "                parent_id = row[2]\n",
    "                title = row[3]\n",
    "                body = row[4]\n",
    "                if current_parent == []:\n",
    "                    line = wrap_line(title + \" \" + body, indent_n)\n",
    "                    write_wrapped(sf, col, rank, line, 2)\n",
    "                    current_parent.insert(0, message_id)\n",
    "                else:\n",
    "                    while current_parent[0] != str(parent_id):\n",
    "                        indent_n = indent_n - 1\n",
    "                        current_parent.pop(0)\n",
    "                    indent_n = indent_n + 1\n",
    "                    line = wrap_line(title + \" \" + body, indent_n)\n",
    "                    write_wrapped(sf, col, rank, line, 2)\n",
    "                    current_parent.insert(0, message_id)"
   ]
  },
  {
   "cell_type": "code",
   "execution_count": 10,
   "metadata": {},
   "outputs": [],
   "source": [
    "conn = create_connection(path_db)\n",
    "cur = conn.cursor()"
   ]
  },
  {
   "cell_type": "code",
   "execution_count": 11,
   "metadata": {},
   "outputs": [],
   "source": [
    "topn = 100"
   ]
  },
  {
   "cell_type": "code",
   "execution_count": 12,
   "metadata": {},
   "outputs": [],
   "source": [
    "sf = \"special-needs\"\n",
    "group = \"all\"\n",
    "n = 20\n",
    "make_topn_text(topn, sf, group, n)"
   ]
  },
  {
   "cell_type": "code",
   "execution_count": 13,
   "metadata": {},
   "outputs": [],
   "source": [
    "sf = \"toddler\"\n",
    "group = \"all\"\n",
    "n = 15\n",
    "make_topn_text(topn, sf, group, n)"
   ]
  }
 ],
 "metadata": {
  "kernelspec": {
   "display_name": "Python 3",
   "language": "python",
   "name": "python3"
  },
  "language_info": {
   "codemirror_mode": {
    "name": "ipython",
    "version": 3
   },
   "file_extension": ".py",
   "mimetype": "text/x-python",
   "name": "python",
   "nbconvert_exporter": "python",
   "pygments_lexer": "ipython3",
   "version": "3.8.5"
  }
 },
 "nbformat": 4,
 "nbformat_minor": 4
}
